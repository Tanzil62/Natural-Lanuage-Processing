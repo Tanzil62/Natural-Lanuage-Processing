{
 "cells": [
  {
   "cell_type": "code",
   "execution_count": 7,
   "metadata": {},
   "outputs": [],
   "source": [
    "import nltk\n",
    "import re\n",
    "from nltk.corpus import stopwords\n",
    "from nltk.stem.porter import PorterStemmer\n",
    "from nltk.stem import WordNetLemmatizer"
   ]
  },
  {
   "cell_type": "code",
   "execution_count": 8,
   "metadata": {},
   "outputs": [],
   "source": [
    "paragraph = \"Middle Tennessee State University (MTSU or MT) is a public university in Murfreesboro, Tennessee. \\\n",
    "Founded in 1911 as a normal school, the university consists of eight undergraduate colleges as well as a college \\\n",
    " of graduate studies, together offering more than 300 degree programs through more than 35 departments.\\\n",
    " [6][7] MTSU is most prominently known for its Recording Industry, Aerospace, Music and Concrete Industry \\\n",
    " Management programs. The university has partnered in research endeavors with the Oak Ridge National Laboratory,[8] \\\n",
    " the United States Army, and the United States Marine Corps.[9] In 2009, Middle Tennessee State University was ranked\\\n",
    " among the nations top 100 public universities by Forbes magazine.\""
   ]
  },
  {
   "cell_type": "markdown",
   "metadata": {},
   "source": [
    "#### Lemmatization"
   ]
  },
  {
   "cell_type": "code",
   "execution_count": 9,
   "metadata": {},
   "outputs": [],
   "source": [
    "sentences = nltk.sent_tokenize(paragraph)\n",
    "lemmatizer = WordNetLemmatizer()"
   ]
  },
  {
   "cell_type": "code",
   "execution_count": 10,
   "metadata": {},
   "outputs": [],
   "source": [
    "for i in range(len(sentences)):\n",
    "    words = nltk.word_tokenize(sentences[i])\n",
    "    words = [lemmatizer.lemmatize(word) for word in words if word not in set(stopwords.words('english'))]\n",
    "    #print(words)\n",
    "    sentences[i]=' '.join(words)\n",
    "    #print(sentences[i])"
   ]
  },
  {
   "cell_type": "code",
   "execution_count": 11,
   "metadata": {},
   "outputs": [
    {
     "data": {
      "text/plain": [
       "['Middle Tennessee State University ( MTSU MT ) public university Murfreesboro , Tennessee .',\n",
       " 'Founded 1911 normal school , university consists eight undergraduate college well college graduate study , together offering 300 degree program 35 department .',\n",
       " '[ 6 ] [ 7 ] MTSU prominently known Recording Industry , Aerospace , Music Concrete Industry Management program .',\n",
       " 'The university partnered research endeavor Oak Ridge National Laboratory , [ 8 ] United States Army , United States Marine Corps .',\n",
       " '[ 9 ] In 2009 , Middle Tennessee State University ranked among nation top 100 public university Forbes magazine .']"
      ]
     },
     "execution_count": 11,
     "metadata": {},
     "output_type": "execute_result"
    }
   ],
   "source": [
    "sentences"
   ]
  },
  {
   "cell_type": "code",
   "execution_count": null,
   "metadata": {},
   "outputs": [],
   "source": []
  },
  {
   "cell_type": "code",
   "execution_count": null,
   "metadata": {},
   "outputs": [],
   "source": []
  }
 ],
 "metadata": {
  "kernelspec": {
   "display_name": "Python 3",
   "language": "python",
   "name": "python3"
  },
  "language_info": {
   "codemirror_mode": {
    "name": "ipython",
    "version": 3
   },
   "file_extension": ".py",
   "mimetype": "text/x-python",
   "name": "python",
   "nbconvert_exporter": "python",
   "pygments_lexer": "ipython3",
   "version": "3.6.8"
  }
 },
 "nbformat": 4,
 "nbformat_minor": 2
}
