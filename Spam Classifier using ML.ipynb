{
 "cells": [
  {
   "cell_type": "code",
   "execution_count": 4,
   "metadata": {},
   "outputs": [],
   "source": [
    "import nltk\n",
    "import re\n",
    "from nltk.corpus import stopwords\n",
    "from nltk.stem.porter import PorterStemmer\n",
    "from nltk.stem import WordNetLemmatizer\n",
    "from sklearn.feature_extraction.text import TfidfVectorizer\n",
    "import pandas as pd\n",
    "from sklearn.model_selection import train_test_split\n",
    "from sklearn.metrics import (precision_score, recall_score,f1_score, accuracy_score,mean_squared_error,mean_absolute_error)\n",
    "from sklearn.metrics import confusion_matrix\n",
    "from sklearn.linear_model import LogisticRegression\n",
    "from sklearn.naive_bayes import GaussianNB\n",
    "from sklearn.neighbors import KNeighborsClassifier\n",
    "from sklearn.tree import DecisionTreeClassifier\n",
    "from sklearn.metrics import (precision_score, recall_score,f1_score, accuracy_score,mean_squared_error,mean_absolute_error)\n",
    "from sklearn.ensemble import AdaBoostClassifier\n",
    "from sklearn.ensemble import RandomForestClassifier\n",
    "from sklearn.svm import SVC\n",
    "from sklearn import svm\n",
    "from sklearn.naive_bayes import MultinomialNB"
   ]
  },
  {
   "cell_type": "code",
   "execution_count": 5,
   "metadata": {},
   "outputs": [
    {
     "data": {
      "text/html": [
       "<div>\n",
       "<style scoped>\n",
       "    .dataframe tbody tr th:only-of-type {\n",
       "        vertical-align: middle;\n",
       "    }\n",
       "\n",
       "    .dataframe tbody tr th {\n",
       "        vertical-align: top;\n",
       "    }\n",
       "\n",
       "    .dataframe thead th {\n",
       "        text-align: right;\n",
       "    }\n",
       "</style>\n",
       "<table border=\"1\" class=\"dataframe\">\n",
       "  <thead>\n",
       "    <tr style=\"text-align: right;\">\n",
       "      <th></th>\n",
       "      <th>Label</th>\n",
       "      <th>Message</th>\n",
       "    </tr>\n",
       "  </thead>\n",
       "  <tbody>\n",
       "    <tr>\n",
       "      <th>0</th>\n",
       "      <td>ham</td>\n",
       "      <td>Go until jurong point, crazy.. Available only ...</td>\n",
       "    </tr>\n",
       "    <tr>\n",
       "      <th>1</th>\n",
       "      <td>ham</td>\n",
       "      <td>Ok lar... Joking wif u oni...</td>\n",
       "    </tr>\n",
       "    <tr>\n",
       "      <th>2</th>\n",
       "      <td>spam</td>\n",
       "      <td>Free entry in 2 a wkly comp to win FA Cup fina...</td>\n",
       "    </tr>\n",
       "    <tr>\n",
       "      <th>3</th>\n",
       "      <td>ham</td>\n",
       "      <td>U dun say so early hor... U c already then say...</td>\n",
       "    </tr>\n",
       "    <tr>\n",
       "      <th>4</th>\n",
       "      <td>ham</td>\n",
       "      <td>Nah I don't think he goes to usf, he lives aro...</td>\n",
       "    </tr>\n",
       "  </tbody>\n",
       "</table>\n",
       "</div>"
      ],
      "text/plain": [
       "  Label                                            Message\n",
       "0   ham  Go until jurong point, crazy.. Available only ...\n",
       "1   ham                      Ok lar... Joking wif u oni...\n",
       "2  spam  Free entry in 2 a wkly comp to win FA Cup fina...\n",
       "3   ham  U dun say so early hor... U c already then say...\n",
       "4   ham  Nah I don't think he goes to usf, he lives aro..."
      ]
     },
     "execution_count": 5,
     "metadata": {},
     "output_type": "execute_result"
    }
   ],
   "source": [
    "col_list=['v1','v2']\n",
    "messages = pd.read_csv(\"spam.csv\",encoding='ISO-8859-1',usecols=col_list)\n",
    "messages.columns=['Label','Message']\n",
    "messages.head()\n",
    "\n"
   ]
  },
  {
   "cell_type": "code",
   "execution_count": 6,
   "metadata": {},
   "outputs": [
    {
     "data": {
      "text/plain": [
       "'Ok lar... Joking wif u oni...'"
      ]
     },
     "execution_count": 6,
     "metadata": {},
     "output_type": "execute_result"
    }
   ],
   "source": [
    "messages['Message'][1]"
   ]
  },
  {
   "cell_type": "code",
   "execution_count": 44,
   "metadata": {},
   "outputs": [],
   "source": [
    "lemmatizer=  WordNetLemmatizer()\n",
    "Array1= []\n",
    "for i in range(len(messages)):\n",
    "    message = re.sub('[^A-Za-z]', ' ', messages['Message'][i])\n",
    "    message = message.lower()\n",
    "    message = message.split()\n",
    "    word = [lemmatizer.lemmatize(word) for word in message if not word in set(stopwords.words('english'))]\n",
    "    message = ' '.join(word)\n",
    "    Array1.append(message)\n",
    "    \n"
   ]
  },
  {
   "cell_type": "code",
   "execution_count": 47,
   "metadata": {},
   "outputs": [],
   "source": [
    "cv= TfidfVectorizer()\n",
    "X = cv.fit_transform(Array1).toarray()"
   ]
  },
  {
   "cell_type": "code",
   "execution_count": 48,
   "metadata": {},
   "outputs": [
    {
     "data": {
      "text/plain": [
       "array([[0., 0., 0., ..., 0., 0., 0.],\n",
       "       [0., 0., 0., ..., 0., 0., 0.],\n",
       "       [0., 0., 0., ..., 0., 0., 0.],\n",
       "       ...,\n",
       "       [0., 0., 0., ..., 0., 0., 0.],\n",
       "       [0., 0., 0., ..., 0., 0., 0.],\n",
       "       [0., 0., 0., ..., 0., 0., 0.]])"
      ]
     },
     "execution_count": 48,
     "metadata": {},
     "output_type": "execute_result"
    }
   ],
   "source": [
    "TFIDF"
   ]
  },
  {
   "cell_type": "code",
   "execution_count": 50,
   "metadata": {},
   "outputs": [
    {
     "data": {
      "text/plain": [
       "array([0, 0, 1, ..., 0, 0, 0], dtype=uint8)"
      ]
     },
     "execution_count": 50,
     "metadata": {},
     "output_type": "execute_result"
    }
   ],
   "source": [
    "y=pd.get_dummies(messages['Label'])\n",
    "y=y.iloc[:,1].values\n",
    "y"
   ]
  },
  {
   "cell_type": "code",
   "execution_count": 83,
   "metadata": {},
   "outputs": [],
   "source": [
    "X_train, X_test, y_train, y_test = train_test_split(X, y, test_size = 0.20, random_state = 0)\n"
   ]
  },
  {
   "cell_type": "markdown",
   "metadata": {},
   "source": [
    "#### Multinomial Naive Bayes"
   ]
  },
  {
   "cell_type": "code",
   "execution_count": 69,
   "metadata": {},
   "outputs": [
    {
     "name": "stdout",
     "output_type": "stream",
     "text": [
      "[[949   0]\n",
      " [ 46 120]]\n",
      "accuracy\n",
      "0.959\n",
      "precision\n",
      "1.000\n",
      "racall\n",
      "0.723\n",
      "f1score\n",
      "0.839\n",
      "TP=  120\n",
      "TN=  949\n",
      "FP=  0\n",
      "FN=  46\n",
      "sensitivity=  0.7228915662650602\n",
      "recall:  0.7228915662650602\n",
      "Specificity=  1.0\n",
      "roc_auc_score  0.8614457831325302\n"
     ]
    }
   ],
   "source": [
    "spam_detect_model = MultinomialNB().fit(X_train, y_train)\n",
    "y_pred=spam_detect_model.predict(X_test)\n",
    "accuracy = accuracy_score(y_test, y_pred)\n",
    "recall = recall_score(y_test, y_pred , average=\"binary\")\n",
    "precision = precision_score(y_test, y_pred , average=\"binary\")\n",
    "f1 = f1_score(y_test, y_pred, average=\"binary\")\n",
    "print(confusion_matrix(y_test, y_pred))\n",
    "print(\"accuracy\")\n",
    "print(\"%.3f\" %accuracy)\n",
    "print(\"precision\")\n",
    "print(\"%.3f\" %precision)\n",
    "print(\"racall\")\n",
    "print(\"%.3f\" %recall)\n",
    "print(\"f1score\")\n",
    "print(\"%.3f\" %f1)\n",
    "from sklearn.metrics import roc_auc_score\n",
    "roc_auc_score(y_test, y_pred)\n",
    "from sklearn import metrics\n",
    "# save confusion matrix and slice into four pieces\n",
    "confusion=metrics.confusion_matrix(y_test, y_pred)\n",
    "TP = confusion[1, 1]\n",
    "TN = confusion[0, 0]\n",
    "FP = confusion[0, 1]\n",
    "FN = confusion[1, 0]\n",
    "print (\"TP= \",TP)\n",
    "print (\"TN= \",TN)\n",
    "print (\"FP= \",FP)\n",
    "print (\"FN= \",FN)\n",
    "sensitivity = TP / float(FN + TP)\n",
    "print(\"sensitivity= \",sensitivity)\n",
    "print(\"recall: \", metrics.recall_score(y_test, y_pred))\n",
    "specificity = TN / (TN + FP)\n",
    "print(\"Specificity= \",specificity)\n",
    "import matplotlib.pyplot as plt\n",
    "from sklearn.metrics import roc_auc_score\n",
    "print (\"roc_auc_score \",roc_auc_score(y_test, y_pred))\n"
   ]
  },
  {
   "cell_type": "markdown",
   "metadata": {},
   "source": [
    "#### Logistic Regression"
   ]
  },
  {
   "cell_type": "code",
   "execution_count": 74,
   "metadata": {},
   "outputs": [
    {
     "name": "stderr",
     "output_type": "stream",
     "text": [
      "C:\\Users\\TANZIL\\Anaconda3\\Anacanda_python\\lib\\site-packages\\sklearn\\linear_model\\logistic.py:433: FutureWarning: Default solver will be changed to 'lbfgs' in 0.22. Specify a solver to silence this warning.\n",
      "  FutureWarning)\n"
     ]
    }
   ],
   "source": [
    "spam_detect_model = LogisticRegression().fit(X_train, y_train)\n",
    "y_pred=spam_detect_model.predict(X_test)\n",
    "\n",
    "accuracy = accuracy_score(y_test, y_pred)\n",
    "recall = recall_score(y_test, y_pred , average=\"binary\")\n",
    "precision = precision_score(y_test, y_pred , average=\"binary\")\n",
    "f1 = f1_score(y_test, y_pred, average=\"binary\")\n",
    "print(confusion_matrix(y_test, y_pred))\n",
    "print(\"accuracy\")\n",
    "print(\"%.3f\" %accuracy)\n",
    "print(\"precision\")\n",
    "print(\"%.3f\" %precision)\n",
    "print(\"racall\")\n",
    "print(\"%.3f\" %recall)\n",
    "print(\"f1score\")\n",
    "print(\"%.3f\" %f1)\n",
    "from sklearn.metrics import roc_auc_score\n",
    "roc_auc_score(y_test, y_pred)\n",
    "from sklearn import metrics\n",
    "# save confusion matrix and slice into four pieces\n",
    "confusion=metrics.confusion_matrix(y_test, y_pred)\n",
    "TP = confusion[1, 1]\n",
    "TN = confusion[0, 0]\n",
    "FP = confusion[0, 1]\n",
    "FN = confusion[1, 0]\n",
    "print (\"TP= \",TP)\n",
    "print (\"TN= \",TN)\n",
    "print (\"FP= \",FP)\n",
    "print (\"FN= \",FN)\n",
    "sensitivity = TP / float(FN + TP)\n",
    "print(\"sensitivity= \",sensitivity)\n",
    "print(\"recall: \", metrics.recall_score(y_test, y_pred))\n",
    "specificity = TN / (TN + FP)\n",
    "print(\"Specificity= \",specificity)\n",
    "import matplotlib.pyplot as plt\n",
    "from sklearn.metrics import roc_auc_score\n",
    "print (\"roc_auc_score \",roc_auc_score(y_test, y_pred))"
   ]
  },
  {
   "cell_type": "markdown",
   "metadata": {},
   "source": [
    "#### Gaussian Naive Bayes"
   ]
  },
  {
   "cell_type": "code",
   "execution_count": 76,
   "metadata": {},
   "outputs": [
    {
     "name": "stdout",
     "output_type": "stream",
     "text": [
      "[[841 108]\n",
      " [ 29 137]]\n",
      "accuracy\n",
      "0.877\n",
      "precision\n",
      "0.559\n",
      "racall\n",
      "0.825\n",
      "f1score\n",
      "0.667\n",
      "TP=  137\n",
      "TN=  841\n",
      "FP=  108\n",
      "FN=  29\n",
      "sensitivity=  0.8253012048192772\n",
      "recall:  0.8253012048192772\n",
      "Specificity=  0.8861959957850368\n",
      "roc_auc_score  0.855748600302157\n"
     ]
    }
   ],
   "source": [
    "spam_detect_model = GaussianNB().fit(X_train, y_train)\n",
    "y_pred=spam_detect_model.predict(X_test)\n",
    "\n",
    "accuracy = accuracy_score(y_test, y_pred)\n",
    "recall = recall_score(y_test, y_pred , average=\"binary\")\n",
    "precision = precision_score(y_test, y_pred , average=\"binary\")\n",
    "f1 = f1_score(y_test, y_pred, average=\"binary\")\n",
    "print(confusion_matrix(y_test, y_pred))\n",
    "print(\"accuracy\")\n",
    "print(\"%.3f\" %accuracy)\n",
    "print(\"precision\")\n",
    "print(\"%.3f\" %precision)\n",
    "print(\"racall\")\n",
    "print(\"%.3f\" %recall)\n",
    "print(\"f1score\")\n",
    "print(\"%.3f\" %f1)\n",
    "from sklearn.metrics import roc_auc_score\n",
    "roc_auc_score(y_test, y_pred)\n",
    "from sklearn import metrics\n",
    "# save confusion matrix and slice into four pieces\n",
    "confusion=metrics.confusion_matrix(y_test, y_pred)\n",
    "TP = confusion[1, 1]\n",
    "TN = confusion[0, 0]\n",
    "FP = confusion[0, 1]\n",
    "FN = confusion[1, 0]\n",
    "print (\"TP= \",TP)\n",
    "print (\"TN= \",TN)\n",
    "print (\"FP= \",FP)\n",
    "print (\"FN= \",FN)\n",
    "sensitivity = TP / float(FN + TP)\n",
    "print(\"sensitivity= \",sensitivity)\n",
    "print(\"recall: \", metrics.recall_score(y_test, y_pred))\n",
    "specificity = TN / (TN + FP)\n",
    "print(\"Specificity= \",specificity)\n",
    "import matplotlib.pyplot as plt\n",
    "from sklearn.metrics import roc_auc_score\n",
    "print (\"roc_auc_score \",roc_auc_score(y_test, y_pred))"
   ]
  },
  {
   "cell_type": "markdown",
   "metadata": {},
   "source": [
    "#### K Nearest Neighbor"
   ]
  },
  {
   "cell_type": "code",
   "execution_count": 77,
   "metadata": {},
   "outputs": [
    {
     "name": "stdout",
     "output_type": "stream",
     "text": [
      "[[949   0]\n",
      " [103  63]]\n",
      "accuracy\n",
      "0.908\n",
      "precision\n",
      "1.000\n",
      "racall\n",
      "0.380\n",
      "f1score\n",
      "0.550\n",
      "TP=  63\n",
      "TN=  949\n",
      "FP=  0\n",
      "FN=  103\n",
      "sensitivity=  0.3795180722891566\n",
      "recall:  0.3795180722891566\n",
      "Specificity=  1.0\n",
      "roc_auc_score  0.6897590361445783\n"
     ]
    }
   ],
   "source": [
    "spam_detect_model = KNeighborsClassifier().fit(X_train, y_train)\n",
    "y_pred=spam_detect_model.predict(X_test)\n",
    "\n",
    "accuracy = accuracy_score(y_test, y_pred)\n",
    "recall = recall_score(y_test, y_pred , average=\"binary\")\n",
    "precision = precision_score(y_test, y_pred , average=\"binary\")\n",
    "f1 = f1_score(y_test, y_pred, average=\"binary\")\n",
    "print(confusion_matrix(y_test, y_pred))\n",
    "print(\"accuracy\")\n",
    "print(\"%.3f\" %accuracy)\n",
    "print(\"precision\")\n",
    "print(\"%.3f\" %precision)\n",
    "print(\"racall\")\n",
    "print(\"%.3f\" %recall)\n",
    "print(\"f1score\")\n",
    "print(\"%.3f\" %f1)\n",
    "from sklearn.metrics import roc_auc_score\n",
    "roc_auc_score(y_test, y_pred)\n",
    "from sklearn import metrics\n",
    "# save confusion matrix and slice into four pieces\n",
    "confusion=metrics.confusion_matrix(y_test, y_pred)\n",
    "TP = confusion[1, 1]\n",
    "TN = confusion[0, 0]\n",
    "FP = confusion[0, 1]\n",
    "FN = confusion[1, 0]\n",
    "print (\"TP= \",TP)\n",
    "print (\"TN= \",TN)\n",
    "print (\"FP= \",FP)\n",
    "print (\"FN= \",FN)\n",
    "sensitivity = TP / float(FN + TP)\n",
    "print(\"sensitivity= \",sensitivity)\n",
    "print(\"recall: \", metrics.recall_score(y_test, y_pred))\n",
    "specificity = TN / (TN + FP)\n",
    "print(\"Specificity= \",specificity)\n",
    "import matplotlib.pyplot as plt\n",
    "from sklearn.metrics import roc_auc_score\n",
    "print (\"roc_auc_score \",roc_auc_score(y_test, y_pred))"
   ]
  },
  {
   "cell_type": "markdown",
   "metadata": {},
   "source": [
    "#### Decision Tree"
   ]
  },
  {
   "cell_type": "code",
   "execution_count": 79,
   "metadata": {},
   "outputs": [
    {
     "name": "stdout",
     "output_type": "stream",
     "text": [
      "[[936  13]\n",
      " [ 20 146]]\n",
      "accuracy\n",
      "0.970\n",
      "precision\n",
      "0.918\n",
      "racall\n",
      "0.880\n",
      "f1score\n",
      "0.898\n",
      "TP=  146\n",
      "TN=  936\n",
      "FP=  13\n",
      "FN=  20\n",
      "sensitivity=  0.8795180722891566\n",
      "recall:  0.8795180722891566\n",
      "Specificity=  0.9863013698630136\n",
      "roc_auc_score  0.9329097210760849\n"
     ]
    }
   ],
   "source": [
    "spam_detect_model = DecisionTreeClassifier().fit(X_train, y_train)\n",
    "y_pred=spam_detect_model.predict(X_test)\n",
    "\n",
    "accuracy = accuracy_score(y_test, y_pred)\n",
    "recall = recall_score(y_test, y_pred , average=\"binary\")\n",
    "precision = precision_score(y_test, y_pred , average=\"binary\")\n",
    "f1 = f1_score(y_test, y_pred, average=\"binary\")\n",
    "print(confusion_matrix(y_test, y_pred))\n",
    "print(\"accuracy\")\n",
    "print(\"%.3f\" %accuracy)\n",
    "print(\"precision\")\n",
    "print(\"%.3f\" %precision)\n",
    "print(\"racall\")\n",
    "print(\"%.3f\" %recall)\n",
    "print(\"f1score\")\n",
    "print(\"%.3f\" %f1)\n",
    "from sklearn.metrics import roc_auc_score\n",
    "roc_auc_score(y_test, y_pred)\n",
    "from sklearn import metrics\n",
    "# save confusion matrix and slice into four pieces\n",
    "confusion=metrics.confusion_matrix(y_test, y_pred)\n",
    "TP = confusion[1, 1]\n",
    "TN = confusion[0, 0]\n",
    "FP = confusion[0, 1]\n",
    "FN = confusion[1, 0]\n",
    "print (\"TP= \",TP)\n",
    "print (\"TN= \",TN)\n",
    "print (\"FP= \",FP)\n",
    "print (\"FN= \",FN)\n",
    "sensitivity = TP / float(FN + TP)\n",
    "print(\"sensitivity= \",sensitivity)\n",
    "print(\"recall: \", metrics.recall_score(y_test, y_pred))\n",
    "specificity = TN / (TN + FP)\n",
    "print(\"Specificity= \",specificity)\n",
    "import matplotlib.pyplot as plt\n",
    "from sklearn.metrics import roc_auc_score\n",
    "print (\"roc_auc_score \",roc_auc_score(y_test, y_pred))"
   ]
  },
  {
   "cell_type": "markdown",
   "metadata": {},
   "source": [
    "#### Ada Boost"
   ]
  },
  {
   "cell_type": "code",
   "execution_count": 80,
   "metadata": {},
   "outputs": [
    {
     "name": "stdout",
     "output_type": "stream",
     "text": [
      "[[944   5]\n",
      " [ 20 146]]\n",
      "accuracy\n",
      "0.978\n",
      "precision\n",
      "0.967\n",
      "racall\n",
      "0.880\n",
      "f1score\n",
      "0.921\n",
      "TP=  146\n",
      "TN=  944\n",
      "FP=  5\n",
      "FN=  20\n",
      "sensitivity=  0.8795180722891566\n",
      "recall:  0.8795180722891566\n",
      "Specificity=  0.9947312961011591\n",
      "roc_auc_score  0.9371246841951577\n"
     ]
    }
   ],
   "source": [
    "spam_detect_model =AdaBoostClassifier(n_estimators=100).fit(X_train, y_train)\n",
    "y_pred=spam_detect_model.predict(X_test)\n",
    "\n",
    "accuracy = accuracy_score(y_test, y_pred)\n",
    "recall = recall_score(y_test, y_pred , average=\"binary\")\n",
    "precision = precision_score(y_test, y_pred , average=\"binary\")\n",
    "f1 = f1_score(y_test, y_pred, average=\"binary\")\n",
    "print(confusion_matrix(y_test, y_pred))\n",
    "print(\"accuracy\")\n",
    "print(\"%.3f\" %accuracy)\n",
    "print(\"precision\")\n",
    "print(\"%.3f\" %precision)\n",
    "print(\"racall\")\n",
    "print(\"%.3f\" %recall)\n",
    "print(\"f1score\")\n",
    "print(\"%.3f\" %f1)\n",
    "from sklearn.metrics import roc_auc_score\n",
    "roc_auc_score(y_test, y_pred)\n",
    "from sklearn import metrics\n",
    "# save confusion matrix and slice into four pieces\n",
    "confusion=metrics.confusion_matrix(y_test, y_pred)\n",
    "TP = confusion[1, 1]\n",
    "TN = confusion[0, 0]\n",
    "FP = confusion[0, 1]\n",
    "FN = confusion[1, 0]\n",
    "print (\"TP= \",TP)\n",
    "print (\"TN= \",TN)\n",
    "print (\"FP= \",FP)\n",
    "print (\"FN= \",FN)\n",
    "sensitivity = TP / float(FN + TP)\n",
    "print(\"sensitivity= \",sensitivity)\n",
    "print(\"recall: \", metrics.recall_score(y_test, y_pred))\n",
    "specificity = TN / (TN + FP)\n",
    "print(\"Specificity= \",specificity)\n",
    "import matplotlib.pyplot as plt\n",
    "from sklearn.metrics import roc_auc_score\n",
    "print (\"roc_auc_score \",roc_auc_score(y_test, y_pred))"
   ]
  },
  {
   "cell_type": "markdown",
   "metadata": {},
   "source": [
    "#### Random Forest"
   ]
  },
  {
   "cell_type": "code",
   "execution_count": 81,
   "metadata": {},
   "outputs": [
    {
     "name": "stdout",
     "output_type": "stream",
     "text": [
      "[[949   0]\n",
      " [ 29 137]]\n",
      "accuracy\n",
      "0.974\n",
      "precision\n",
      "1.000\n",
      "racall\n",
      "0.825\n",
      "f1score\n",
      "0.904\n",
      "TP=  137\n",
      "TN=  949\n",
      "FP=  0\n",
      "FN=  29\n",
      "sensitivity=  0.8253012048192772\n",
      "recall:  0.8253012048192772\n",
      "Specificity=  1.0\n",
      "roc_auc_score  0.9126506024096386\n"
     ]
    }
   ],
   "source": [
    "spam_detect_model =RandomForestClassifier(n_estimators=100).fit(X_train, y_train)\n",
    "y_pred=spam_detect_model.predict(X_test)\n",
    "\n",
    "accuracy = accuracy_score(y_test, y_pred)\n",
    "recall = recall_score(y_test, y_pred , average=\"binary\")\n",
    "precision = precision_score(y_test, y_pred , average=\"binary\")\n",
    "f1 = f1_score(y_test, y_pred, average=\"binary\")\n",
    "print(confusion_matrix(y_test, y_pred))\n",
    "print(\"accuracy\")\n",
    "print(\"%.3f\" %accuracy)\n",
    "print(\"precision\")\n",
    "print(\"%.3f\" %precision)\n",
    "print(\"racall\")\n",
    "print(\"%.3f\" %recall)\n",
    "print(\"f1score\")\n",
    "print(\"%.3f\" %f1)\n",
    "from sklearn.metrics import roc_auc_score\n",
    "roc_auc_score(y_test, y_pred)\n",
    "from sklearn import metrics\n",
    "# save confusion matrix and slice into four pieces\n",
    "confusion=metrics.confusion_matrix(y_test, y_pred)\n",
    "TP = confusion[1, 1]\n",
    "TN = confusion[0, 0]\n",
    "FP = confusion[0, 1]\n",
    "FN = confusion[1, 0]\n",
    "print (\"TP= \",TP)\n",
    "print (\"TN= \",TN)\n",
    "print (\"FP= \",FP)\n",
    "print (\"FN= \",FN)\n",
    "sensitivity = TP / float(FN + TP)\n",
    "print(\"sensitivity= \",sensitivity)\n",
    "print(\"recall: \", metrics.recall_score(y_test, y_pred))\n",
    "specificity = TN / (TN + FP)\n",
    "print(\"Specificity= \",specificity)\n",
    "import matplotlib.pyplot as plt\n",
    "from sklearn.metrics import roc_auc_score\n",
    "print (\"roc_auc_score \",roc_auc_score(y_test, y_pred))"
   ]
  },
  {
   "cell_type": "code",
   "execution_count": null,
   "metadata": {},
   "outputs": [],
   "source": []
  }
 ],
 "metadata": {
  "kernelspec": {
   "display_name": "Python 3",
   "language": "python",
   "name": "python3"
  },
  "language_info": {
   "codemirror_mode": {
    "name": "ipython",
    "version": 3
   },
   "file_extension": ".py",
   "mimetype": "text/x-python",
   "name": "python",
   "nbconvert_exporter": "python",
   "pygments_lexer": "ipython3",
   "version": "3.6.8"
  }
 },
 "nbformat": 4,
 "nbformat_minor": 2
}
