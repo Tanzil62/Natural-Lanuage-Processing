{
 "cells": [
  {
   "cell_type": "code",
   "execution_count": 69,
   "metadata": {},
   "outputs": [],
   "source": [
    "import nltk\n",
    "import re\n",
    "from nltk.corpus import stopwords\n",
    "from nltk.stem.porter import PorterStemmer\n",
    "from nltk.stem import WordNetLemmatizer\n",
    "from sklearn.feature_extraction.text import TfidfVectorizer\n",
    "import pandas as pd\n",
    "from sklearn.model_selection import train_test_split\n",
    "from sklearn.metrics import (precision_score, recall_score,f1_score, accuracy_score,mean_squared_error,mean_absolute_error)\n",
    "from sklearn.metrics import confusion_matrix\n",
    "from sklearn.linear_model import LogisticRegression\n",
    "from sklearn.naive_bayes import GaussianNB\n",
    "from sklearn.neighbors import KNeighborsClassifier\n",
    "from sklearn.tree import DecisionTreeClassifier\n",
    "from sklearn.metrics import (precision_score, recall_score,f1_score, accuracy_score,mean_squared_error,mean_absolute_error)\n",
    "from sklearn.ensemble import AdaBoostClassifier\n",
    "from sklearn.ensemble import RandomForestClassifier\n",
    "from sklearn.svm import SVC\n",
    "from sklearn import svm\n",
    "from sklearn.naive_bayes import MultinomialNB\n",
    "import matplotlib.pyplot as plt\n",
    "from sklearn.preprocessing import MinMaxScaler\n",
    "import numpy as np\n",
    "from tensorflow.keras.models import Sequential\n",
    "from tensorflow.keras.layers import Dense\n",
    "from tensorflow.keras.layers import LSTM\n",
    "\n",
    "import math\n",
    "from sklearn.metrics import mean_squared_error"
   ]
  },
  {
   "cell_type": "markdown",
   "metadata": {},
   "source": [
    "#### Loading dataset"
   ]
  },
  {
   "cell_type": "code",
   "execution_count": 70,
   "metadata": {},
   "outputs": [
    {
     "data": {
      "text/html": [
       "<div>\n",
       "<style scoped>\n",
       "    .dataframe tbody tr th:only-of-type {\n",
       "        vertical-align: middle;\n",
       "    }\n",
       "\n",
       "    .dataframe tbody tr th {\n",
       "        vertical-align: top;\n",
       "    }\n",
       "\n",
       "    .dataframe thead th {\n",
       "        text-align: right;\n",
       "    }\n",
       "</style>\n",
       "<table border=\"1\" class=\"dataframe\">\n",
       "  <thead>\n",
       "    <tr style=\"text-align: right;\">\n",
       "      <th></th>\n",
       "      <th>Date</th>\n",
       "      <th>Open</th>\n",
       "      <th>High</th>\n",
       "      <th>Low</th>\n",
       "      <th>Close</th>\n",
       "      <th>Volume</th>\n",
       "      <th>Adj Close</th>\n",
       "    </tr>\n",
       "  </thead>\n",
       "  <tbody>\n",
       "    <tr>\n",
       "      <th>0</th>\n",
       "      <td>6/29/2010</td>\n",
       "      <td>19.000000</td>\n",
       "      <td>25.00</td>\n",
       "      <td>17.540001</td>\n",
       "      <td>23.889999</td>\n",
       "      <td>18766300</td>\n",
       "      <td>23.889999</td>\n",
       "    </tr>\n",
       "    <tr>\n",
       "      <th>1</th>\n",
       "      <td>6/30/2010</td>\n",
       "      <td>25.790001</td>\n",
       "      <td>30.42</td>\n",
       "      <td>23.299999</td>\n",
       "      <td>23.830000</td>\n",
       "      <td>17187100</td>\n",
       "      <td>23.830000</td>\n",
       "    </tr>\n",
       "    <tr>\n",
       "      <th>2</th>\n",
       "      <td>7/1/2010</td>\n",
       "      <td>25.000000</td>\n",
       "      <td>25.92</td>\n",
       "      <td>20.270000</td>\n",
       "      <td>21.959999</td>\n",
       "      <td>8218800</td>\n",
       "      <td>21.959999</td>\n",
       "    </tr>\n",
       "    <tr>\n",
       "      <th>3</th>\n",
       "      <td>7/2/2010</td>\n",
       "      <td>23.000000</td>\n",
       "      <td>23.10</td>\n",
       "      <td>18.709999</td>\n",
       "      <td>19.200001</td>\n",
       "      <td>5139800</td>\n",
       "      <td>19.200001</td>\n",
       "    </tr>\n",
       "    <tr>\n",
       "      <th>4</th>\n",
       "      <td>7/6/2010</td>\n",
       "      <td>20.000000</td>\n",
       "      <td>20.00</td>\n",
       "      <td>15.830000</td>\n",
       "      <td>16.110001</td>\n",
       "      <td>6866900</td>\n",
       "      <td>16.110001</td>\n",
       "    </tr>\n",
       "  </tbody>\n",
       "</table>\n",
       "</div>"
      ],
      "text/plain": [
       "        Date       Open   High        Low      Close    Volume  Adj Close\n",
       "0  6/29/2010  19.000000  25.00  17.540001  23.889999  18766300  23.889999\n",
       "1  6/30/2010  25.790001  30.42  23.299999  23.830000  17187100  23.830000\n",
       "2   7/1/2010  25.000000  25.92  20.270000  21.959999   8218800  21.959999\n",
       "3   7/2/2010  23.000000  23.10  18.709999  19.200001   5139800  19.200001\n",
       "4   7/6/2010  20.000000  20.00  15.830000  16.110001   6866900  16.110001"
      ]
     },
     "execution_count": 70,
     "metadata": {},
     "output_type": "execute_result"
    }
   ],
   "source": [
    "stock = pd.read_csv(\"tesla.csv\",encoding='ISO-8859-1')\n",
    "stock.head()"
   ]
  },
  {
   "cell_type": "code",
   "execution_count": 71,
   "metadata": {},
   "outputs": [
    {
     "data": {
      "text/html": [
       "<div>\n",
       "<style scoped>\n",
       "    .dataframe tbody tr th:only-of-type {\n",
       "        vertical-align: middle;\n",
       "    }\n",
       "\n",
       "    .dataframe tbody tr th {\n",
       "        vertical-align: top;\n",
       "    }\n",
       "\n",
       "    .dataframe thead th {\n",
       "        text-align: right;\n",
       "    }\n",
       "</style>\n",
       "<table border=\"1\" class=\"dataframe\">\n",
       "  <thead>\n",
       "    <tr style=\"text-align: right;\">\n",
       "      <th></th>\n",
       "      <th>Date</th>\n",
       "      <th>Open</th>\n",
       "      <th>High</th>\n",
       "      <th>Low</th>\n",
       "      <th>Close</th>\n",
       "      <th>Volume</th>\n",
       "      <th>Adj Close</th>\n",
       "    </tr>\n",
       "  </thead>\n",
       "  <tbody>\n",
       "    <tr>\n",
       "      <th>1687</th>\n",
       "      <td>3/13/2017</td>\n",
       "      <td>244.820007</td>\n",
       "      <td>246.850006</td>\n",
       "      <td>242.779999</td>\n",
       "      <td>246.169998</td>\n",
       "      <td>3010700</td>\n",
       "      <td>246.169998</td>\n",
       "    </tr>\n",
       "    <tr>\n",
       "      <th>1688</th>\n",
       "      <td>3/14/2017</td>\n",
       "      <td>246.110001</td>\n",
       "      <td>258.119995</td>\n",
       "      <td>246.020004</td>\n",
       "      <td>258.000000</td>\n",
       "      <td>7575500</td>\n",
       "      <td>258.000000</td>\n",
       "    </tr>\n",
       "    <tr>\n",
       "      <th>1689</th>\n",
       "      <td>3/15/2017</td>\n",
       "      <td>257.000000</td>\n",
       "      <td>261.000000</td>\n",
       "      <td>254.270004</td>\n",
       "      <td>255.729996</td>\n",
       "      <td>4816600</td>\n",
       "      <td>255.729996</td>\n",
       "    </tr>\n",
       "    <tr>\n",
       "      <th>1690</th>\n",
       "      <td>3/16/2017</td>\n",
       "      <td>262.399994</td>\n",
       "      <td>265.750000</td>\n",
       "      <td>259.059998</td>\n",
       "      <td>262.049988</td>\n",
       "      <td>7100400</td>\n",
       "      <td>262.049988</td>\n",
       "    </tr>\n",
       "    <tr>\n",
       "      <th>1691</th>\n",
       "      <td>3/17/2017</td>\n",
       "      <td>264.000000</td>\n",
       "      <td>265.329987</td>\n",
       "      <td>261.200012</td>\n",
       "      <td>261.500000</td>\n",
       "      <td>6475900</td>\n",
       "      <td>261.500000</td>\n",
       "    </tr>\n",
       "  </tbody>\n",
       "</table>\n",
       "</div>"
      ],
      "text/plain": [
       "           Date        Open        High         Low       Close   Volume  \\\n",
       "1687  3/13/2017  244.820007  246.850006  242.779999  246.169998  3010700   \n",
       "1688  3/14/2017  246.110001  258.119995  246.020004  258.000000  7575500   \n",
       "1689  3/15/2017  257.000000  261.000000  254.270004  255.729996  4816600   \n",
       "1690  3/16/2017  262.399994  265.750000  259.059998  262.049988  7100400   \n",
       "1691  3/17/2017  264.000000  265.329987  261.200012  261.500000  6475900   \n",
       "\n",
       "       Adj Close  \n",
       "1687  246.169998  \n",
       "1688  258.000000  \n",
       "1689  255.729996  \n",
       "1690  262.049988  \n",
       "1691  261.500000  "
      ]
     },
     "execution_count": 71,
     "metadata": {},
     "output_type": "execute_result"
    }
   ],
   "source": [
    "stock.tail()"
   ]
  },
  {
   "cell_type": "code",
   "execution_count": 72,
   "metadata": {},
   "outputs": [
    {
     "data": {
      "text/plain": [
       "(1692, 7)"
      ]
     },
     "execution_count": 72,
     "metadata": {},
     "output_type": "execute_result"
    }
   ],
   "source": [
    "stock.shape"
   ]
  },
  {
   "cell_type": "code",
   "execution_count": 73,
   "metadata": {},
   "outputs": [],
   "source": [
    "stock=stock.reset_index()['Close']"
   ]
  },
  {
   "cell_type": "markdown",
   "metadata": {},
   "source": [
    "#### Plotting the stock price"
   ]
  },
  {
   "cell_type": "code",
   "execution_count": 74,
   "metadata": {},
   "outputs": [
    {
     "data": {
      "text/plain": [
       "[<matplotlib.lines.Line2D at 0x183a7fd0a20>]"
      ]
     },
     "execution_count": 74,
     "metadata": {},
     "output_type": "execute_result"
    },
    {
     "data": {
      "image/png": "[encoded data removed]",
      "text/plain": [
       "<Figure size 1080x432 with 1 Axes>"
      ]
     },
     "metadata": {
      "needs_background": "light"
     },
     "output_type": "display_data"
    }
   ],
   "source": [
    "f = plt.figure()\n",
    "f.set_figwidth(15)\n",
    "f.set_figheight(6)\n",
    "plt.plot(stock)"
   ]
  },
  {
   "cell_type": "markdown",
   "metadata": {},
   "source": [
    "#### Normalize the data"
   ]
  },
  {
   "cell_type": "code",
   "execution_count": 75,
   "metadata": {},
   "outputs": [],
   "source": [
    "scaler=MinMaxScaler(feature_range=(0,1))\n",
    "stock=scaler.fit_transform(np.array(stock).reshape(-1,1))"
   ]
  },
  {
   "cell_type": "markdown",
   "metadata": {},
   "source": [
    "#### Splitting the stock data into train and test set\n"
   ]
  },
  {
   "cell_type": "code",
   "execution_count": 76,
   "metadata": {},
   "outputs": [],
   "source": [
    "training_size=int(len(stock)*0.80)\n",
    "test_size=len(stock)-training_size\n",
    "training_data=stock[0:training_size,:]\n",
    "test_data=stock[training_size:len(stock),:]"
   ]
  },
  {
   "cell_type": "code",
   "execution_count": 77,
   "metadata": {},
   "outputs": [
    {
     "name": "stdout",
     "output_type": "stream",
     "text": [
      "1353\n",
      "339\n"
     ]
    }
   ],
   "source": [
    "print(len(training_data))\n",
    "print(len(test_data))"
   ]
  },
  {
   "cell_type": "markdown",
   "metadata": {},
   "source": [
    "#### convert an array of values into a dataset matrix"
   ]
  },
  {
   "cell_type": "code",
   "execution_count": 79,
   "metadata": {},
   "outputs": [],
   "source": [
    "def create_dataset(data, time_step):\n",
    "    dataX, dataY = [], []\n",
    "    for i in range(len(data)-time_step-1):\n",
    "        X = data[i:(i+time_step), :]  \n",
    "        dataX.append(X)\n",
    "        y=data[i + time_step, :]\n",
    "        dataY.append(y)\n",
    "    return np.array(dataX), np.array(dataY)"
   ]
  },
  {
   "cell_type": "markdown",
   "metadata": {},
   "source": [
    "#### Every time it will take 50 inputs as train data and based on this input it will produce test data"
   ]
  },
  {
   "cell_type": "code",
   "execution_count": 80,
   "metadata": {},
   "outputs": [],
   "source": [
    "time_step = 50\n",
    "X_train, y_train = create_dataset(training_data, time_step)\n",
    "X_test, y_test = create_dataset(test_data, time_step)"
   ]
  },
  {
   "cell_type": "code",
   "execution_count": 81,
   "metadata": {},
   "outputs": [
    {
     "name": "stdout",
     "output_type": "stream",
     "text": [
      "(1302, 50, 1) (1302, 1)\n",
      "(288, 50, 1) (288, 1)\n"
     ]
    }
   ],
   "source": [
    "print(X_train.shape, y_train.shape )\n",
    "\n",
    "print(X_test.shape, y_test.shape )"
   ]
  },
  {
   "cell_type": "code",
   "execution_count": 132,
   "metadata": {},
   "outputs": [],
   "source": [
    "# reshape data to sent it to LSTM model"
   ]
  },
  {
   "cell_type": "code",
   "execution_count": 133,
   "metadata": {},
   "outputs": [],
   "source": [
    "\n",
    "X_train =X_train.reshape(X_train.shape[0],X_train.shape[1] , 1)\n",
    "X_test = X_test.reshape(X_test.shape[0],X_test.shape[1] , 1)"
   ]
  },
  {
   "cell_type": "code",
   "execution_count": null,
   "metadata": {},
   "outputs": [],
   "source": []
  },
  {
   "cell_type": "code",
   "execution_count": 134,
   "metadata": {},
   "outputs": [],
   "source": [
    "model=Sequential()\n",
    "model.add(LSTM(512,return_sequences=True,input_shape=(X_train.shape[1],1)))\n",
    "model.add(LSTM(256,return_sequences=True))\n",
    "model.add(LSTM(128))\n",
    "model.add(Dense(1))\n",
    "model.compile(loss='mean_squared_error',optimizer='adam')"
   ]
  },
  {
   "cell_type": "code",
   "execution_count": null,
   "metadata": {},
   "outputs": [],
   "source": []
  },
  {
   "cell_type": "code",
   "execution_count": 84,
   "metadata": {},
   "outputs": [
    {
     "name": "stdout",
     "output_type": "stream",
     "text": [
      "Train on 1302 samples, validate on 288 samples\n",
      "Epoch 1/100\n",
      "1302/1302 [==============================] - 5s 4ms/step - loss: 0.0731 - val_loss: 0.0384\n",
      "Epoch 2/100\n",
      "1302/1302 [==============================] - 3s 3ms/step - loss: 0.0063 - val_loss: 0.0041\n",
      "Epoch 3/100\n",
      "1302/1302 [==============================] - 3s 2ms/step - loss: 0.0023 - val_loss: 0.0046\n",
      "Epoch 4/100\n",
      "1302/1302 [==============================] - 3s 2ms/step - loss: 0.0018 - val_loss: 0.0039\n",
      "Epoch 5/100\n",
      "1302/1302 [==============================] - 3s 2ms/step - loss: 0.0017 - val_loss: 0.0039\n",
      "Epoch 6/100\n",
      "1302/1302 [==============================] - 3s 2ms/step - loss: 0.0017 - val_loss: 0.0038\n",
      "Epoch 7/100\n",
      "1302/1302 [==============================] - 3s 2ms/step - loss: 0.0017 - val_loss: 0.0036\n",
      "Epoch 8/100\n",
      "1302/1302 [==============================] - 3s 2ms/step - loss: 0.0016 - val_loss: 0.0036\n",
      "Epoch 9/100\n",
      "1302/1302 [==============================] - 4s 3ms/step - loss: 0.0016 - val_loss: 0.0035\n",
      "Epoch 10/100\n",
      "1302/1302 [==============================] - 3s 2ms/step - loss: 0.0015 - val_loss: 0.0035\n",
      "Epoch 11/100\n",
      "1302/1302 [==============================] - 4s 3ms/step - loss: 0.0015 - val_loss: 0.0033\n",
      "Epoch 12/100\n",
      "1302/1302 [==============================] - 4s 3ms/step - loss: 0.0015 - val_loss: 0.0031\n",
      "Epoch 13/100\n",
      "1302/1302 [==============================] - 3s 2ms/step - loss: 0.0014 - val_loss: 0.0029\n",
      "Epoch 14/100\n",
      "1302/1302 [==============================] - 3s 2ms/step - loss: 0.0014 - val_loss: 0.0030\n",
      "Epoch 15/100\n",
      "1302/1302 [==============================] - 3s 2ms/step - loss: 0.0014 - val_loss: 0.0026\n",
      "Epoch 16/100\n",
      "1302/1302 [==============================] - 3s 2ms/step - loss: 0.0013 - val_loss: 0.0025\n",
      "Epoch 17/100\n",
      "1302/1302 [==============================] - 3s 2ms/step - loss: 0.0013 - val_loss: 0.0027\n",
      "Epoch 18/100\n",
      "1302/1302 [==============================] - 3s 2ms/step - loss: 0.0012 - val_loss: 0.0028\n",
      "Epoch 19/100\n",
      "1302/1302 [==============================] - 3s 2ms/step - loss: 0.0012 - val_loss: 0.0027\n",
      "Epoch 20/100\n",
      "1302/1302 [==============================] - 3s 2ms/step - loss: 0.0014 - val_loss: 0.0023\n",
      "Epoch 21/100\n",
      "1302/1302 [==============================] - 3s 2ms/step - loss: 0.0012 - val_loss: 0.0023\n",
      "Epoch 22/100\n",
      "1302/1302 [==============================] - 4s 3ms/step - loss: 0.0013 - val_loss: 0.0028\n",
      "Epoch 23/100\n",
      "1302/1302 [==============================] - 3s 3ms/step - loss: 0.0012 - val_loss: 0.0025\n",
      "Epoch 24/100\n",
      "1302/1302 [==============================] - 4s 3ms/step - loss: 0.0011 - val_loss: 0.0020\n",
      "Epoch 25/100\n",
      "1302/1302 [==============================] - 3s 2ms/step - loss: 0.0011 - val_loss: 0.0020\n",
      "Epoch 26/100\n",
      "1302/1302 [==============================] - 3s 2ms/step - loss: 0.0011 - val_loss: 0.0019\n",
      "Epoch 27/100\n",
      "1302/1302 [==============================] - 3s 3ms/step - loss: 0.0010 - val_loss: 0.0019\n",
      "Epoch 28/100\n",
      "1302/1302 [==============================] - 4s 3ms/step - loss: 0.0011 - val_loss: 0.0027\n",
      "Epoch 29/100\n",
      "1302/1302 [==============================] - 4s 3ms/step - loss: 0.0011 - val_loss: 0.0022\n",
      "Epoch 30/100\n",
      "1302/1302 [==============================] - 3s 2ms/step - loss: 0.0010 - val_loss: 0.0018\n",
      "Epoch 31/100\n",
      "1302/1302 [==============================] - 3s 2ms/step - loss: 0.0010 - val_loss: 0.0020\n",
      "Epoch 32/100\n",
      "1302/1302 [==============================] - 3s 2ms/step - loss: 9.6554e-04 - val_loss: 0.0017\n",
      "Epoch 33/100\n",
      "1302/1302 [==============================] - 3s 2ms/step - loss: 0.0010 - val_loss: 0.0018\n",
      "Epoch 34/100\n",
      "1302/1302 [==============================] - 3s 2ms/step - loss: 0.0011 - val_loss: 0.0017\n",
      "Epoch 35/100\n",
      "1302/1302 [==============================] - 3s 2ms/step - loss: 9.3999e-04 - val_loss: 0.0017\n",
      "Epoch 36/100\n",
      "1302/1302 [==============================] - 3s 2ms/step - loss: 9.2173e-04 - val_loss: 0.0019\n",
      "Epoch 37/100\n",
      "1302/1302 [==============================] - 3s 2ms/step - loss: 9.4231e-04 - val_loss: 0.0017\n",
      "Epoch 38/100\n",
      "1302/1302 [==============================] - 3s 2ms/step - loss: 8.8614e-04 - val_loss: 0.0017\n",
      "Epoch 39/100\n",
      "1302/1302 [==============================] - 3s 2ms/step - loss: 9.1622e-04 - val_loss: 0.0016\n",
      "Epoch 40/100\n",
      "1302/1302 [==============================] - 3s 2ms/step - loss: 8.7394e-04 - val_loss: 0.0016\n",
      "Epoch 41/100\n",
      "1302/1302 [==============================] - 3s 2ms/step - loss: 9.0738e-04 - val_loss: 0.0015\n",
      "Epoch 42/100\n",
      "1302/1302 [==============================] - 3s 2ms/step - loss: 9.0088e-04 - val_loss: 0.0018\n",
      "Epoch 43/100\n",
      "1302/1302 [==============================] - 3s 2ms/step - loss: 8.5554e-04 - val_loss: 0.0014\n",
      "Epoch 44/100\n",
      "1302/1302 [==============================] - 3s 2ms/step - loss: 9.2504e-04 - val_loss: 0.0022\n",
      "Epoch 45/100\n",
      "1302/1302 [==============================] - 3s 2ms/step - loss: 0.0011 - val_loss: 0.0014\n",
      "Epoch 46/100\n",
      "1302/1302 [==============================] - 3s 2ms/step - loss: 0.0011 - val_loss: 0.0026\n",
      "Epoch 47/100\n",
      "1302/1302 [==============================] - 3s 2ms/step - loss: 0.0010 - val_loss: 0.0014\n",
      "Epoch 48/100\n",
      "1302/1302 [==============================] - 3s 2ms/step - loss: 8.4635e-04 - val_loss: 0.0013\n",
      "Epoch 49/100\n",
      "1302/1302 [==============================] - 3s 2ms/step - loss: 7.5622e-04 - val_loss: 0.0013\n",
      "Epoch 50/100\n",
      "1302/1302 [==============================] - 3s 2ms/step - loss: 7.8415e-04 - val_loss: 0.0012\n",
      "Epoch 51/100\n",
      "1302/1302 [==============================] - 3s 2ms/step - loss: 8.0794e-04 - val_loss: 0.0012\n",
      "Epoch 52/100\n",
      "1302/1302 [==============================] - 3s 2ms/step - loss: 0.0010 - val_loss: 0.0020\n",
      "Epoch 53/100\n",
      "1302/1302 [==============================] - 3s 2ms/step - loss: 8.3037e-04 - val_loss: 0.0014\n",
      "Epoch 54/100\n",
      "1302/1302 [==============================] - 3s 3ms/step - loss: 7.5433e-04 - val_loss: 0.0018\n",
      "Epoch 55/100\n",
      "1302/1302 [==============================] - 3s 3ms/step - loss: 7.1121e-04 - val_loss: 0.0012\n",
      "Epoch 56/100\n",
      "1302/1302 [==============================] - 3s 2ms/step - loss: 7.1258e-04 - val_loss: 0.0011\n",
      "Epoch 57/100\n",
      "1302/1302 [==============================] - 3s 2ms/step - loss: 7.8417e-04 - val_loss: 0.0020\n",
      "Epoch 58/100\n",
      "1302/1302 [==============================] - 3s 2ms/step - loss: 8.4199e-04 - val_loss: 0.0027\n",
      "Epoch 59/100\n",
      "1302/1302 [==============================] - 3s 2ms/step - loss: 8.5859e-04 - val_loss: 0.0015\n",
      "Epoch 60/100\n",
      "1302/1302 [==============================] - 3s 2ms/step - loss: 6.8998e-04 - val_loss: 0.0010\n",
      "Epoch 61/100\n",
      "1302/1302 [==============================] - 3s 2ms/step - loss: 6.4164e-04 - val_loss: 0.0012\n",
      "Epoch 62/100\n",
      "1302/1302 [==============================] - 3s 2ms/step - loss: 7.6296e-04 - val_loss: 0.0014\n",
      "Epoch 63/100\n",
      "1302/1302 [==============================] - 3s 2ms/step - loss: 7.1384e-04 - val_loss: 0.0011\n",
      "Epoch 64/100\n",
      "1302/1302 [==============================] - 3s 2ms/step - loss: 6.2346e-04 - val_loss: 9.9337e-04\n",
      "Epoch 65/100\n",
      "1302/1302 [==============================] - 3s 2ms/step - loss: 6.5154e-04 - val_loss: 0.0010\n",
      "Epoch 66/100\n",
      "1302/1302 [==============================] - 3s 2ms/step - loss: 6.9174e-04 - val_loss: 9.3445e-04\n",
      "Epoch 67/100\n",
      "1302/1302 [==============================] - 3s 2ms/step - loss: 5.9606e-04 - val_loss: 0.0010\n",
      "Epoch 68/100\n",
      "1302/1302 [==============================] - 3s 2ms/step - loss: 6.0086e-04 - val_loss: 9.3629e-04\n",
      "Epoch 69/100\n",
      "1302/1302 [==============================] - 3s 2ms/step - loss: 5.7798e-04 - val_loss: 9.5311e-04\n",
      "Epoch 70/100\n",
      "1302/1302 [==============================] - 3s 2ms/step - loss: 5.9985e-04 - val_loss: 0.0013\n",
      "Epoch 71/100\n",
      "1302/1302 [==============================] - 4s 3ms/step - loss: 5.8136e-04 - val_loss: 0.0010\n",
      "Epoch 72/100\n",
      "1302/1302 [==============================] - 4s 3ms/step - loss: 6.6847e-04 - val_loss: 0.0012\n",
      "Epoch 73/100\n",
      "1302/1302 [==============================] - 4s 3ms/step - loss: 5.6506e-04 - val_loss: 8.3260e-04\n",
      "Epoch 74/100\n",
      "1302/1302 [==============================] - 4s 3ms/step - loss: 5.5160e-04 - val_loss: 8.3924e-04\n",
      "Epoch 75/100\n",
      "1302/1302 [==============================] - 4s 3ms/step - loss: 5.5433e-04 - val_loss: 8.5897e-04\n",
      "Epoch 76/100\n",
      "1302/1302 [==============================] - 3s 2ms/step - loss: 5.9326e-04 - val_loss: 0.0014\n",
      "Epoch 77/100\n"
     ]
    },
    {
     "name": "stdout",
     "output_type": "stream",
     "text": [
      "1302/1302 [==============================] - 3s 3ms/step - loss: 5.7903e-04 - val_loss: 9.0227e-04\n",
      "Epoch 78/100\n",
      "1302/1302 [==============================] - 3s 2ms/step - loss: 5.8693e-04 - val_loss: 8.5240e-04\n",
      "Epoch 79/100\n",
      "1302/1302 [==============================] - 3s 3ms/step - loss: 5.6538e-04 - val_loss: 0.0011\n",
      "Epoch 80/100\n",
      "1302/1302 [==============================] - 3s 3ms/step - loss: 5.8150e-04 - val_loss: 7.5234e-04\n",
      "Epoch 81/100\n",
      "1302/1302 [==============================] - 3s 2ms/step - loss: 5.3593e-04 - val_loss: 8.0721e-04\n",
      "Epoch 82/100\n",
      "1302/1302 [==============================] - 3s 2ms/step - loss: 4.9632e-04 - val_loss: 7.2425e-04\n",
      "Epoch 83/100\n",
      "1302/1302 [==============================] - 3s 3ms/step - loss: 4.9819e-04 - val_loss: 7.7118e-04\n",
      "Epoch 84/100\n",
      "1302/1302 [==============================] - 3s 2ms/step - loss: 4.8899e-04 - val_loss: 6.9968e-04\n",
      "Epoch 85/100\n",
      "1302/1302 [==============================] - 3s 2ms/step - loss: 4.9451e-04 - val_loss: 7.7826e-04\n",
      "Epoch 86/100\n",
      "1302/1302 [==============================] - 3s 2ms/step - loss: 4.8349e-04 - val_loss: 6.7847e-04\n",
      "Epoch 87/100\n",
      "1302/1302 [==============================] - 3s 2ms/step - loss: 4.7427e-04 - val_loss: 9.9968e-04\n",
      "Epoch 88/100\n",
      "1302/1302 [==============================] - 3s 2ms/step - loss: 5.0871e-04 - val_loss: 0.0011\n",
      "Epoch 89/100\n",
      "1302/1302 [==============================] - 3s 2ms/step - loss: 6.1421e-04 - val_loss: 9.0735e-04\n",
      "Epoch 90/100\n",
      "1302/1302 [==============================] - 3s 2ms/step - loss: 4.5940e-04 - val_loss: 6.5423e-04\n",
      "Epoch 91/100\n",
      "1302/1302 [==============================] - 3s 2ms/step - loss: 6.3242e-04 - val_loss: 0.0012\n",
      "Epoch 92/100\n",
      "1302/1302 [==============================] - 3s 2ms/step - loss: 5.6416e-04 - val_loss: 6.9043e-04\n",
      "Epoch 93/100\n",
      "1302/1302 [==============================] - 3s 2ms/step - loss: 4.9635e-04 - val_loss: 0.0011\n",
      "Epoch 94/100\n",
      "1302/1302 [==============================] - 3s 2ms/step - loss: 4.7131e-04 - val_loss: 6.4011e-04\n",
      "Epoch 95/100\n",
      "1302/1302 [==============================] - 3s 2ms/step - loss: 4.5120e-04 - val_loss: 6.4527e-04\n",
      "Epoch 96/100\n",
      "1302/1302 [==============================] - 3s 2ms/step - loss: 4.4421e-04 - val_loss: 7.9967e-04\n",
      "Epoch 97/100\n",
      "1302/1302 [==============================] - 3s 2ms/step - loss: 4.7248e-04 - val_loss: 6.2047e-04\n",
      "Epoch 98/100\n",
      "1302/1302 [==============================] - 3s 2ms/step - loss: 4.3340e-04 - val_loss: 6.5109e-04\n",
      "Epoch 99/100\n",
      "1302/1302 [==============================] - 3s 2ms/step - loss: 4.1463e-04 - val_loss: 9.0979e-04\n",
      "Epoch 100/100\n",
      "1302/1302 [==============================] - 3s 2ms/step - loss: 4.3747e-04 - val_loss: 6.0169e-04\n"
     ]
    },
    {
     "data": {
      "text/plain": [
       "<tensorflow.python.keras.callbacks.History at 0x183a301da58>"
      ]
     },
     "execution_count": 84,
     "metadata": {},
     "output_type": "execute_result"
    }
   ],
   "source": [
    "model.fit(X_train,y_train,validation_data=(X_test,ytest),epochs=100,batch_size=64,verbose=1)"
   ]
  },
  {
   "cell_type": "markdown",
   "metadata": {},
   "source": [
    "#### Predict train and test data"
   ]
  },
  {
   "cell_type": "code",
   "execution_count": 85,
   "metadata": {},
   "outputs": [],
   "source": [
    "\n",
    "train_predict=model.predict(X_train)\n",
    "test_predict=model.predict(X_test)"
   ]
  },
  {
   "cell_type": "markdown",
   "metadata": {},
   "source": [
    "#### Transformback the data into original form"
   ]
  },
  {
   "cell_type": "code",
   "execution_count": 86,
   "metadata": {},
   "outputs": [],
   "source": [
    "\n",
    "train_predict=scaler.inverse_transform(train_predict)\n",
    "test_predict=scaler.inverse_transform(test_predict)\n",
    "stock=scaler.inverse_transform(stock)"
   ]
  },
  {
   "cell_type": "code",
   "execution_count": 89,
   "metadata": {},
   "outputs": [
    {
     "data": {
      "text/plain": [
       "(1302, 50, 1)"
      ]
     },
     "execution_count": 89,
     "metadata": {},
     "output_type": "execute_result"
    }
   ],
   "source": [
    "X_train.shape"
   ]
  },
  {
   "cell_type": "code",
   "execution_count": 94,
   "metadata": {},
   "outputs": [
    {
     "data": {
      "text/plain": [
       "(1302, 1)"
      ]
     },
     "execution_count": 94,
     "metadata": {},
     "output_type": "execute_result"
    }
   ],
   "source": [
    "train_predict.shape"
   ]
  },
  {
   "cell_type": "code",
   "execution_count": 92,
   "metadata": {},
   "outputs": [
    {
     "data": {
      "text/plain": [
       "(288, 1)"
      ]
     },
     "execution_count": 92,
     "metadata": {},
     "output_type": "execute_result"
    }
   ],
   "source": [
    "test_predict.shape"
   ]
  },
  {
   "cell_type": "markdown",
   "metadata": {},
   "source": [
    "#### Shift train and test predictions for plotting"
   ]
  },
  {
   "cell_type": "code",
   "execution_count": 129,
   "metadata": {},
   "outputs": [
    {
     "data": {
      "image/png": "[encoded data removed]",
      "text/plain": [
       "<Figure size 1080x432 with 1 Axes>"
      ]
     },
     "metadata": {
      "needs_background": "light"
     },
     "output_type": "display_data"
    }
   ],
   "source": [
    "shift=50\n",
    "trainPredictPlot = np.empty_like(stock)\n",
    "trainPredictPlot[:, :] = np.nan\n",
    "trainPredictPlot[shift+1:len(train_predict)+shift+1, :] = train_predict\n",
    "\n",
    "testPredictPlot = np.empty_like(stock)\n",
    "testPredictPlot[:, :] = np.nan\n",
    "testPredictPlot[len(train_predict)+(shift*2)+1:len(stock)-1, :] = test_predict\n",
    "\n",
    "f = plt.figure()\n",
    "f.set_figwidth(15)\n",
    "f.set_figheight(6)\n",
    "plt.plot((stock))\n",
    "plt.plot(trainPredictPlot)\n",
    "plt.plot(testPredictPlot)\n",
    "plt.show()"
   ]
  },
  {
   "cell_type": "code",
   "execution_count": null,
   "metadata": {},
   "outputs": [],
   "source": []
  }
 ],
 "metadata": {
  "kernelspec": {
   "display_name": "Python 3",
   "language": "python",
   "name": "python3"
  },
  "language_info": {
   "codemirror_mode": {
    "name": "ipython",
    "version": 3
   },
   "file_extension": ".py",
   "mimetype": "text/x-python",
   "name": "python",
   "nbconvert_exporter": "python",
   "pygments_lexer": "ipython3",
   "version": "3.6.8"
  }
 },
 "nbformat": 4,
 "nbformat_minor": 2
}
