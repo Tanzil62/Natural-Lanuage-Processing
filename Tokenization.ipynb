{
 "cells": [
  {
   "cell_type": "markdown",
   "metadata": {},
   "source": [
    "# Tokenization"
   ]
  },
  {
   "cell_type": "code",
   "execution_count": 3,
   "metadata": {},
   "outputs": [],
   "source": [
    "import nltk\n",
    "import re\n",
    "from nltk.corpus import stopwords\n",
    "from nltk.stem.porter import PorterStemmer\n",
    "from nltk.stem import WordNetLemmatizer"
   ]
  },
  {
   "cell_type": "markdown",
   "metadata": {},
   "source": [
    "#### Paragraph"
   ]
  },
  {
   "cell_type": "code",
   "execution_count": 4,
   "metadata": {},
   "outputs": [],
   "source": [
    "paragraph = \"Middle Tennessee State University (MTSU or MT) is a public university in Murfreesboro, Tennessee. \\\n",
    "Founded in 1911 as a normal school, the university consists of eight undergraduate colleges as well as a college \\\n",
    "of graduate studies, together offering more than 300 degree programs through more than 35 departments.\\\n",
    "[6][7] MTSU is most prominently known for its Recording Industry, Aerospace, Music and Concrete Industry \\\n",
    "Management programs. The university has partnered in research endeavors with the Oak Ridge National Laboratory,[8] \\\n",
    "the United States Army, and the United States Marine Corps.[9] In 2009, Middle Tennessee State University was ranked\\\n",
    "among the nations top 100 public universities by Forbes magazine.\""
   ]
  },
  {
   "cell_type": "markdown",
   "metadata": {},
   "source": [
    "#### Paragraph to sentence"
   ]
  },
  {
   "cell_type": "code",
   "execution_count": 6,
   "metadata": {},
   "outputs": [
    {
     "data": {
      "text/plain": [
       "['Middle Tennessee State University (MTSU or MT) is a public university in Murfreesboro, Tennessee.',\n",
       " 'Founded in 1911 as a normal school, the university consists of eight undergraduate colleges as well as a college of graduate studies, together offering more than 300 degree programs through more than 35 departments.',\n",
       " '[6][7] MTSU is most prominently known for its Recording Industry, Aerospace, Music and Concrete Industry Management programs.',\n",
       " 'The university has partnered in research endeavors with the Oak Ridge National Laboratory,[8] the United States Army, and the United States Marine Corps.',\n",
       " '[9] In 2009, Middle Tennessee State University was rankedamong the nations top 100 public universities by Forbes magazine.']"
      ]
     },
     "execution_count": 6,
     "metadata": {},
     "output_type": "execute_result"
    }
   ],
   "source": [
    "sentences = nltk.sent_tokenize(paragraph)\n",
    "sentences"
   ]
  },
  {
   "cell_type": "markdown",
   "metadata": {},
   "source": [
    "#### Paragraph to word"
   ]
  },
  {
   "cell_type": "code",
   "execution_count": 7,
   "metadata": {},
   "outputs": [
    {
     "data": {
      "text/plain": [
       "['Middle',\n",
       " 'Tennessee',\n",
       " 'State',\n",
       " 'University',\n",
       " '(',\n",
       " 'MTSU',\n",
       " 'or',\n",
       " 'MT',\n",
       " ')',\n",
       " 'is',\n",
       " 'a',\n",
       " 'public',\n",
       " 'university',\n",
       " 'in',\n",
       " 'Murfreesboro',\n",
       " ',',\n",
       " 'Tennessee',\n",
       " '.',\n",
       " 'Founded',\n",
       " 'in',\n",
       " '1911',\n",
       " 'as',\n",
       " 'a',\n",
       " 'normal',\n",
       " 'school',\n",
       " ',',\n",
       " 'the',\n",
       " 'university',\n",
       " 'consists',\n",
       " 'of',\n",
       " 'eight',\n",
       " 'undergraduate',\n",
       " 'colleges',\n",
       " 'as',\n",
       " 'well',\n",
       " 'as',\n",
       " 'a',\n",
       " 'college',\n",
       " 'of',\n",
       " 'graduate',\n",
       " 'studies',\n",
       " ',',\n",
       " 'together',\n",
       " 'offering',\n",
       " 'more',\n",
       " 'than',\n",
       " '300',\n",
       " 'degree',\n",
       " 'programs',\n",
       " 'through',\n",
       " 'more',\n",
       " 'than',\n",
       " '35',\n",
       " 'departments',\n",
       " '.',\n",
       " '[',\n",
       " '6',\n",
       " ']',\n",
       " '[',\n",
       " '7',\n",
       " ']',\n",
       " 'MTSU',\n",
       " 'is',\n",
       " 'most',\n",
       " 'prominently',\n",
       " 'known',\n",
       " 'for',\n",
       " 'its',\n",
       " 'Recording',\n",
       " 'Industry',\n",
       " ',',\n",
       " 'Aerospace',\n",
       " ',',\n",
       " 'Music',\n",
       " 'and',\n",
       " 'Concrete',\n",
       " 'Industry',\n",
       " 'Management',\n",
       " 'programs',\n",
       " '.',\n",
       " 'The',\n",
       " 'university',\n",
       " 'has',\n",
       " 'partnered',\n",
       " 'in',\n",
       " 'research',\n",
       " 'endeavors',\n",
       " 'with',\n",
       " 'the',\n",
       " 'Oak',\n",
       " 'Ridge',\n",
       " 'National',\n",
       " 'Laboratory',\n",
       " ',',\n",
       " '[',\n",
       " '8',\n",
       " ']',\n",
       " 'the',\n",
       " 'United',\n",
       " 'States',\n",
       " 'Army',\n",
       " ',',\n",
       " 'and',\n",
       " 'the',\n",
       " 'United',\n",
       " 'States',\n",
       " 'Marine',\n",
       " 'Corps',\n",
       " '.',\n",
       " '[',\n",
       " '9',\n",
       " ']',\n",
       " 'In',\n",
       " '2009',\n",
       " ',',\n",
       " 'Middle',\n",
       " 'Tennessee',\n",
       " 'State',\n",
       " 'University',\n",
       " 'was',\n",
       " 'rankedamong',\n",
       " 'the',\n",
       " 'nations',\n",
       " 'top',\n",
       " '100',\n",
       " 'public',\n",
       " 'universities',\n",
       " 'by',\n",
       " 'Forbes',\n",
       " 'magazine',\n",
       " '.']"
      ]
     },
     "execution_count": 7,
     "metadata": {},
     "output_type": "execute_result"
    }
   ],
   "source": [
    "words = nltk.word_tokenize(paragraph)\n",
    "words"
   ]
  },
  {
   "cell_type": "code",
   "execution_count": null,
   "metadata": {},
   "outputs": [],
   "source": []
  }
 ],
 "metadata": {
  "kernelspec": {
   "display_name": "Python 3",
   "language": "python",
   "name": "python3"
  },
  "language_info": {
   "codemirror_mode": {
    "name": "ipython",
    "version": 3
   },
   "file_extension": ".py",
   "mimetype": "text/x-python",
   "name": "python",
   "nbconvert_exporter": "python",
   "pygments_lexer": "ipython3",
   "version": "3.6.8"
  }
 },
 "nbformat": 4,
 "nbformat_minor": 2
}
