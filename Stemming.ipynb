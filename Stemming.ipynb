{
 "cells": [
  {
   "cell_type": "code",
   "execution_count": 312,
   "metadata": {},
   "outputs": [],
   "source": [
    "import nltk\n",
    "import re\n",
    "from nltk.corpus import stopwords\n",
    "from nltk.stem.porter import PorterStemmer\n",
    "from nltk.stem import WordNetLemmatizer"
   ]
  },
  {
   "cell_type": "code",
   "execution_count": 313,
   "metadata": {},
   "outputs": [],
   "source": [
    "paragraph = \"Middle Tennessee State University (MTSU or MT) is a public university in Murfreesboro, Tennessee. \\\n",
    "Founded in 1911 as a normal school, the university consists of eight undergraduate colleges as well as a college \\\n",
    "of graduate studies, together offering more than 300 degree programs through more than 35 departments.\\\n",
    "[6][7] MTSU is most prominently known for its Recording Industry, Aerospace, Music and Concrete Industry \\\n",
    "Management programs. The university has partnered in research endeavors with the Oak Ridge National Laboratory,[8] \\\n",
    "the United States Army, and the United States Marine Corps.[9] In 2009, Middle Tennessee State University was ranked\\\n",
    "among the nations top 100 public universities by Forbes magazine.\""
   ]
  },
  {
   "cell_type": "markdown",
   "metadata": {},
   "source": [
    "#### Converting pargrapgh to sentences using tokenization"
   ]
  },
  {
   "cell_type": "code",
   "execution_count": 314,
   "metadata": {},
   "outputs": [],
   "source": [
    "sentences = nltk.sent_tokenize(paragraph)\n",
    "stemmer = PorterStemmer()"
   ]
  },
  {
   "cell_type": "markdown",
   "metadata": {},
   "source": [
    "#### Stemming"
   ]
  },
  {
   "cell_type": "code",
   "execution_count": 316,
   "metadata": {},
   "outputs": [
    {
     "name": "stdout",
     "output_type": "stream",
     "text": [
      "['middl', 'tenness', 'state', 'univ', '(', 'mtsu', 'MT', ')', 'public', 'univ', 'murfreesboro', ',', 'tenness', '.']\n",
      "['found', '1911', 'normal', 'school', ',', 'univ', 'consist', 'eight', 'undergradu', 'colleg', 'well', 'colleg', 'graduat', 'studi', ',', 'togeth', 'offer', '300', 'degr', 'program', '35', 'depart', '.']\n",
      "['[', '6', ']', '[', '7', ']', 'mtsu', 'promin', 'known', 'record', 'industri', ',', 'aerospac', ',', 'music', 'concret', 'industri', 'manag', 'program', '.']\n",
      "['univ', 'partner', 'research', 'endeavor', 'oak', 'ridg', 'nation', 'laboratori', ',', '[', '8', ']', 'unit', 'state', 'armi', ',', 'unit', 'state', 'marin', 'corp', '.']\n",
      "['[', '9', ']', 'In', '2009', ',', 'middl', 'tenness', 'state', 'univ', 'rankedamong', 'nation', 'top', '100', 'public', 'univ', 'forb', 'magazin', '.']\n"
     ]
    }
   ],
   "source": [
    "for i in range(len(sentences)):\n",
    "    words = nltk.word_tokenize(sentences[i])\n",
    "    words = [stemmer.stem(word) for word in words if word not in set(stopwords.words('english'))]\n",
    "    print(words)\n",
    "    sentences[i]=' '.join(words)\n",
    "    #print(sentences[i])\n",
    "            \n",
    "            \n",
    "   "
   ]
  },
  {
   "cell_type": "code",
   "execution_count": 317,
   "metadata": {},
   "outputs": [
    {
     "data": {
      "text/plain": [
       "['middl tenness state univ ( mtsu MT ) public univ murfreesboro , tenness .',\n",
       " 'found 1911 normal school , univ consist eight undergradu colleg well colleg graduat studi , togeth offer 300 degr program 35 depart .',\n",
       " '[ 6 ] [ 7 ] mtsu promin known record industri , aerospac , music concret industri manag program .',\n",
       " 'univ partner research endeavor oak ridg nation laboratori , [ 8 ] unit state armi , unit state marin corp .',\n",
       " '[ 9 ] In 2009 , middl tenness state univ rankedamong nation top 100 public univ forb magazin .']"
      ]
     },
     "execution_count": 317,
     "metadata": {},
     "output_type": "execute_result"
    }
   ],
   "source": [
    "sentences"
   ]
  }
 ],
 "metadata": {
  "kernelspec": {
   "display_name": "Python 3",
   "language": "python",
   "name": "python3"
  },
  "language_info": {
   "codemirror_mode": {
    "name": "ipython",
    "version": 3
   },
   "file_extension": ".py",
   "mimetype": "text/x-python",
   "name": "python",
   "nbconvert_exporter": "python",
   "pygments_lexer": "ipython3",
   "version": "3.6.8"
  }
 },
 "nbformat": 4,
 "nbformat_minor": 2
}
