{
 "cells": [
  {
   "cell_type": "code",
   "execution_count": 1,
   "metadata": {},
   "outputs": [],
   "source": [
    "import nltk\n",
    "import re\n",
    "from nltk.corpus import stopwords\n",
    "from nltk.stem.porter import PorterStemmer\n",
    "from nltk.stem import WordNetLemmatizer\n",
    "from sklearn.feature_extraction.text import TfidfVectorizer\n",
    "import pandas as pd\n",
    "from sklearn.model_selection import train_test_split\n",
    "from sklearn.metrics import (precision_score, recall_score,f1_score, accuracy_score,mean_squared_error,mean_absolute_error)\n",
    "from sklearn.metrics import confusion_matrix\n",
    "from sklearn.linear_model import LogisticRegression\n",
    "from sklearn.naive_bayes import GaussianNB\n",
    "from sklearn.neighbors import KNeighborsClassifier\n",
    "from sklearn.tree import DecisionTreeClassifier\n",
    "from sklearn.metrics import (precision_score, recall_score,f1_score, accuracy_score,mean_squared_error,mean_absolute_error)\n",
    "from sklearn.ensemble import AdaBoostClassifier\n",
    "from sklearn.ensemble import RandomForestClassifier\n",
    "from sklearn.svm import SVC\n",
    "from sklearn import svm\n",
    "from sklearn.naive_bayes import MultinomialNB"
   ]
  },
  {
   "cell_type": "code",
   "execution_count": 4,
   "metadata": {},
   "outputs": [
    {
     "data": {
      "text/html": [
       "<div>\n",
       "<style scoped>\n",
       "    .dataframe tbody tr th:only-of-type {\n",
       "        vertical-align: middle;\n",
       "    }\n",
       "\n",
       "    .dataframe tbody tr th {\n",
       "        vertical-align: top;\n",
       "    }\n",
       "\n",
       "    .dataframe thead th {\n",
       "        text-align: right;\n",
       "    }\n",
       "</style>\n",
       "<table border=\"1\" class=\"dataframe\">\n",
       "  <thead>\n",
       "    <tr style=\"text-align: right;\">\n",
       "      <th></th>\n",
       "      <th>Text</th>\n",
       "      <th>Sentiment</th>\n",
       "    </tr>\n",
       "  </thead>\n",
       "  <tbody>\n",
       "    <tr>\n",
       "      <th>0</th>\n",
       "      <td>Kickers on my watchlist XIDE TIT SOQ PNK CPW B...</td>\n",
       "      <td>1</td>\n",
       "    </tr>\n",
       "    <tr>\n",
       "      <th>1</th>\n",
       "      <td>user: AAP MOVIE. 55% return for the FEA/GEED i...</td>\n",
       "      <td>1</td>\n",
       "    </tr>\n",
       "    <tr>\n",
       "      <th>2</th>\n",
       "      <td>user I'd be afraid to short AMZN - they are lo...</td>\n",
       "      <td>1</td>\n",
       "    </tr>\n",
       "    <tr>\n",
       "      <th>3</th>\n",
       "      <td>MNTA Over 12.00</td>\n",
       "      <td>1</td>\n",
       "    </tr>\n",
       "    <tr>\n",
       "      <th>4</th>\n",
       "      <td>OI  Over 21.37</td>\n",
       "      <td>1</td>\n",
       "    </tr>\n",
       "  </tbody>\n",
       "</table>\n",
       "</div>"
      ],
      "text/plain": [
       "                                                Text  Sentiment\n",
       "0  Kickers on my watchlist XIDE TIT SOQ PNK CPW B...          1\n",
       "1  user: AAP MOVIE. 55% return for the FEA/GEED i...          1\n",
       "2  user I'd be afraid to short AMZN - they are lo...          1\n",
       "3                                  MNTA Over 12.00            1\n",
       "4                                   OI  Over 21.37            1"
      ]
     },
     "execution_count": 4,
     "metadata": {},
     "output_type": "execute_result"
    }
   ],
   "source": [
    "col_list=['title','text','label']\n",
    "stock = pd.read_csv(\"stock_data.csv\",encoding='ISO-8859-1')\n",
    "stock.head()\n",
    "\n"
   ]
  },
  {
   "cell_type": "code",
   "execution_count": 5,
   "metadata": {},
   "outputs": [
    {
     "data": {
      "text/plain": [
       "0    Kickers on my watchlist XIDE TIT SOQ PNK CPW B...\n",
       "1    user: AAP MOVIE. 55% return for the FEA/GEED i...\n",
       "2    user I'd be afraid to short AMZN - they are lo...\n",
       "3                                    MNTA Over 12.00  \n",
       "4                                     OI  Over 21.37  \n",
       "Name: Text, dtype: object"
      ]
     },
     "execution_count": 5,
     "metadata": {},
     "output_type": "execute_result"
    }
   ],
   "source": [
    "stock['Text'].head()"
   ]
  },
  {
   "cell_type": "code",
   "execution_count": 6,
   "metadata": {},
   "outputs": [
    {
     "data": {
      "text/plain": [
       "Text         Kickers on my watchlist XIDE TIT SOQ PNK CPW B...\n",
       "Sentiment                                                    1\n",
       "Name: 0, dtype: object"
      ]
     },
     "execution_count": 6,
     "metadata": {},
     "output_type": "execute_result"
    }
   ],
   "source": [
    "stock.iloc[0]"
   ]
  },
  {
   "cell_type": "code",
   "execution_count": 7,
   "metadata": {},
   "outputs": [
    {
     "data": {
      "text/plain": [
       "(5791, 2)"
      ]
     },
     "execution_count": 7,
     "metadata": {},
     "output_type": "execute_result"
    }
   ],
   "source": [
    "stock.shape"
   ]
  },
  {
   "cell_type": "code",
   "execution_count": 8,
   "metadata": {},
   "outputs": [
    {
     "data": {
      "text/plain": [
       "(5791, 2)"
      ]
     },
     "execution_count": 8,
     "metadata": {},
     "output_type": "execute_result"
    }
   ],
   "source": [
    "stock=stock.dropna()\n",
    "stock.shape"
   ]
  },
  {
   "cell_type": "code",
   "execution_count": 9,
   "metadata": {},
   "outputs": [],
   "source": [
    "stock.reset_index(inplace=True)"
   ]
  },
  {
   "cell_type": "code",
   "execution_count": 10,
   "metadata": {},
   "outputs": [
    {
     "data": {
      "text/plain": [
       "0    1\n",
       "1    1\n",
       "2    1\n",
       "3    1\n",
       "4    1\n",
       "Name: Sentiment, dtype: int64"
      ]
     },
     "execution_count": 10,
     "metadata": {},
     "output_type": "execute_result"
    }
   ],
   "source": [
    "y=stock['Sentiment']\n",
    "y.head()"
   ]
  },
  {
   "cell_type": "code",
   "execution_count": 14,
   "metadata": {},
   "outputs": [
    {
     "data": {
      "text/plain": [
       " 1    3685\n",
       "-1    2106\n",
       "Name: Sentiment, dtype: int64"
      ]
     },
     "execution_count": 14,
     "metadata": {},
     "output_type": "execute_result"
    }
   ],
   "source": [
    "y=stock['Sentiment'].value_counts()\n",
    "y"
   ]
  },
  {
   "cell_type": "code",
   "execution_count": 16,
   "metadata": {},
   "outputs": [],
   "source": [
    "lemmatizer=  WordNetLemmatizer()\n",
    "Array1= []\n",
    "for i in range(len(stock)):\n",
    "    message = re.sub('[^a-zA-Z]', ' ', stock['Text'][i])\n",
    "    message = message.lower()\n",
    "    message = message.split()\n",
    "    word = [lemmatizer.lemmatize(word) for word in message if not word in set(stopwords.words('english'))]\n",
    "    message = ' '.join(word)\n",
    "    Array1.append(message)\n",
    "    \n"
   ]
  },
  {
   "cell_type": "code",
   "execution_count": 17,
   "metadata": {},
   "outputs": [],
   "source": [
    "cv= TfidfVectorizer(max_features=10000,ngram_range=(1,5))\n",
    "X = cv.fit_transform(Array1).toarray()"
   ]
  },
  {
   "cell_type": "code",
   "execution_count": 18,
   "metadata": {},
   "outputs": [
    {
     "data": {
      "text/plain": [
       "array([[0.        , 0.        , 0.        , ..., 0.        , 0.        ,\n",
       "        0.        ],\n",
       "       [0.        , 0.        , 0.14847687, ..., 0.        , 0.        ,\n",
       "        0.        ],\n",
       "       [0.        , 0.        , 0.        , ..., 0.        , 0.        ,\n",
       "        0.        ],\n",
       "       ...,\n",
       "       [0.        , 0.        , 0.        , ..., 0.        , 0.        ,\n",
       "        0.        ],\n",
       "       [0.        , 0.        , 0.        , ..., 0.        , 0.        ,\n",
       "        0.        ],\n",
       "       [0.        , 0.        , 0.        , ..., 0.        , 0.        ,\n",
       "        0.        ]])"
      ]
     },
     "execution_count": 18,
     "metadata": {},
     "output_type": "execute_result"
    }
   ],
   "source": [
    "X"
   ]
  },
  {
   "cell_type": "code",
   "execution_count": 26,
   "metadata": {},
   "outputs": [
    {
     "data": {
      "text/plain": [
       "array([1, 1, 1, ..., 1, 1, 1], dtype=uint8)"
      ]
     },
     "execution_count": 26,
     "metadata": {},
     "output_type": "execute_result"
    }
   ],
   "source": [
    "y=pd.get_dummies(messages['Sentiment'])\n",
    "y=y.iloc[:,1].values\n",
    "y"
   ]
  },
  {
   "cell_type": "code",
   "execution_count": 27,
   "metadata": {},
   "outputs": [],
   "source": [
    "X_train, X_test, y_train, y_test = train_test_split(X, y, test_size = 0.20, random_state = 0)\n"
   ]
  },
  {
   "cell_type": "markdown",
   "metadata": {},
   "source": [
    "#### Multinomial Naive Bayes"
   ]
  },
  {
   "cell_type": "code",
   "execution_count": 28,
   "metadata": {},
   "outputs": [
    {
     "name": "stdout",
     "output_type": "stream",
     "text": [
      "[[178 239]\n",
      " [ 50 692]]\n",
      "accuracy\n",
      "0.751\n",
      "precision\n",
      "0.743\n",
      "racall\n",
      "0.933\n",
      "f1score\n",
      "0.827\n",
      "TP=  692\n",
      "TN=  178\n",
      "FP=  239\n",
      "FN=  50\n",
      "sensitivity=  0.9326145552560647\n",
      "recall:  0.9326145552560647\n",
      "Specificity=  0.42685851318944845\n",
      "roc_auc_score  0.6797365342227566\n"
     ]
    }
   ],
   "source": [
    "spam_detect_model = MultinomialNB().fit(X_train, y_train)\n",
    "y_pred=spam_detect_model.predict(X_test)\n",
    "accuracy = accuracy_score(y_test, y_pred)\n",
    "recall = recall_score(y_test, y_pred , average=\"binary\")\n",
    "precision = precision_score(y_test, y_pred , average=\"binary\")\n",
    "f1 = f1_score(y_test, y_pred, average=\"binary\")\n",
    "print(confusion_matrix(y_test, y_pred))\n",
    "print(\"accuracy\")\n",
    "print(\"%.3f\" %accuracy)\n",
    "print(\"precision\")\n",
    "print(\"%.3f\" %precision)\n",
    "print(\"racall\")\n",
    "print(\"%.3f\" %recall)\n",
    "print(\"f1score\")\n",
    "print(\"%.3f\" %f1)\n",
    "from sklearn.metrics import roc_auc_score\n",
    "roc_auc_score(y_test, y_pred)\n",
    "from sklearn import metrics\n",
    "# save confusion matrix and slice into four pieces\n",
    "confusion=metrics.confusion_matrix(y_test, y_pred)\n",
    "TP = confusion[1, 1]\n",
    "TN = confusion[0, 0]\n",
    "FP = confusion[0, 1]\n",
    "FN = confusion[1, 0]\n",
    "print (\"TP= \",TP)\n",
    "print (\"TN= \",TN)\n",
    "print (\"FP= \",FP)\n",
    "print (\"FN= \",FN)\n",
    "sensitivity = TP / float(FN + TP)\n",
    "print(\"sensitivity= \",sensitivity)\n",
    "print(\"recall: \", metrics.recall_score(y_test, y_pred))\n",
    "specificity = TN / (TN + FP)\n",
    "print(\"Specificity= \",specificity)\n",
    "import matplotlib.pyplot as plt\n",
    "from sklearn.metrics import roc_auc_score\n",
    "print (\"roc_auc_score \",roc_auc_score(y_test, y_pred))\n"
   ]
  },
  {
   "cell_type": "markdown",
   "metadata": {},
   "source": [
    "#### Logistic Regression"
   ]
  },
  {
   "cell_type": "code",
   "execution_count": 29,
   "metadata": {},
   "outputs": [
    {
     "name": "stdout",
     "output_type": "stream",
     "text": [
      "[[214 203]\n",
      " [ 57 685]]\n",
      "accuracy\n",
      "0.776\n",
      "precision\n",
      "0.771\n",
      "racall\n",
      "0.923\n",
      "f1score\n",
      "0.840\n",
      "TP=  685\n",
      "TN=  214\n",
      "FP=  203\n",
      "FN=  57\n",
      "sensitivity=  0.9231805929919138\n",
      "recall:  0.9231805929919138\n",
      "Specificity=  0.513189448441247\n",
      "roc_auc_score  0.7181850207165803\n"
     ]
    },
    {
     "name": "stderr",
     "output_type": "stream",
     "text": [
      "C:\\Users\\TANZIL\\Anaconda3\\Anacanda_python\\lib\\site-packages\\sklearn\\linear_model\\logistic.py:433: FutureWarning: Default solver will be changed to 'lbfgs' in 0.22. Specify a solver to silence this warning.\n",
      "  FutureWarning)\n"
     ]
    }
   ],
   "source": [
    "spam_detect_model = LogisticRegression().fit(X_train, y_train)\n",
    "y_pred=spam_detect_model.predict(X_test)\n",
    "\n",
    "accuracy = accuracy_score(y_test, y_pred)\n",
    "recall = recall_score(y_test, y_pred , average=\"binary\")\n",
    "precision = precision_score(y_test, y_pred , average=\"binary\")\n",
    "f1 = f1_score(y_test, y_pred, average=\"binary\")\n",
    "print(confusion_matrix(y_test, y_pred))\n",
    "print(\"accuracy\")\n",
    "print(\"%.3f\" %accuracy)\n",
    "print(\"precision\")\n",
    "print(\"%.3f\" %precision)\n",
    "print(\"racall\")\n",
    "print(\"%.3f\" %recall)\n",
    "print(\"f1score\")\n",
    "print(\"%.3f\" %f1)\n",
    "from sklearn.metrics import roc_auc_score\n",
    "roc_auc_score(y_test, y_pred)\n",
    "from sklearn import metrics\n",
    "# save confusion matrix and slice into four pieces\n",
    "confusion=metrics.confusion_matrix(y_test, y_pred)\n",
    "TP = confusion[1, 1]\n",
    "TN = confusion[0, 0]\n",
    "FP = confusion[0, 1]\n",
    "FN = confusion[1, 0]\n",
    "print (\"TP= \",TP)\n",
    "print (\"TN= \",TN)\n",
    "print (\"FP= \",FP)\n",
    "print (\"FN= \",FN)\n",
    "sensitivity = TP / float(FN + TP)\n",
    "print(\"sensitivity= \",sensitivity)\n",
    "print(\"recall: \", metrics.recall_score(y_test, y_pred))\n",
    "specificity = TN / (TN + FP)\n",
    "print(\"Specificity= \",specificity)\n",
    "import matplotlib.pyplot as plt\n",
    "from sklearn.metrics import roc_auc_score\n",
    "print (\"roc_auc_score \",roc_auc_score(y_test, y_pred))"
   ]
  },
  {
   "cell_type": "markdown",
   "metadata": {},
   "source": [
    "#### Gaussian Naive Bayes"
   ]
  },
  {
   "cell_type": "code",
   "execution_count": 30,
   "metadata": {},
   "outputs": [
    {
     "name": "stdout",
     "output_type": "stream",
     "text": [
      "[[273 144]\n",
      " [226 516]]\n",
      "accuracy\n",
      "0.681\n",
      "precision\n",
      "0.782\n",
      "racall\n",
      "0.695\n",
      "f1score\n",
      "0.736\n",
      "TP=  516\n",
      "TN=  273\n",
      "FP=  144\n",
      "FN=  226\n",
      "sensitivity=  0.6954177897574124\n",
      "recall:  0.6954177897574124\n",
      "Specificity=  0.6546762589928058\n",
      "roc_auc_score  0.675047024375109\n"
     ]
    }
   ],
   "source": [
    "spam_detect_model = GaussianNB().fit(X_train, y_train)\n",
    "y_pred=spam_detect_model.predict(X_test)\n",
    "\n",
    "accuracy = accuracy_score(y_test, y_pred)\n",
    "recall = recall_score(y_test, y_pred , average=\"binary\")\n",
    "precision = precision_score(y_test, y_pred , average=\"binary\")\n",
    "f1 = f1_score(y_test, y_pred, average=\"binary\")\n",
    "print(confusion_matrix(y_test, y_pred))\n",
    "print(\"accuracy\")\n",
    "print(\"%.3f\" %accuracy)\n",
    "print(\"precision\")\n",
    "print(\"%.3f\" %precision)\n",
    "print(\"racall\")\n",
    "print(\"%.3f\" %recall)\n",
    "print(\"f1score\")\n",
    "print(\"%.3f\" %f1)\n",
    "from sklearn.metrics import roc_auc_score\n",
    "roc_auc_score(y_test, y_pred)\n",
    "from sklearn import metrics\n",
    "# save confusion matrix and slice into four pieces\n",
    "confusion=metrics.confusion_matrix(y_test, y_pred)\n",
    "TP = confusion[1, 1]\n",
    "TN = confusion[0, 0]\n",
    "FP = confusion[0, 1]\n",
    "FN = confusion[1, 0]\n",
    "print (\"TP= \",TP)\n",
    "print (\"TN= \",TN)\n",
    "print (\"FP= \",FP)\n",
    "print (\"FN= \",FN)\n",
    "sensitivity = TP / float(FN + TP)\n",
    "print(\"sensitivity= \",sensitivity)\n",
    "print(\"recall: \", metrics.recall_score(y_test, y_pred))\n",
    "specificity = TN / (TN + FP)\n",
    "print(\"Specificity= \",specificity)\n",
    "import matplotlib.pyplot as plt\n",
    "from sklearn.metrics import roc_auc_score\n",
    "print (\"roc_auc_score \",roc_auc_score(y_test, y_pred))"
   ]
  },
  {
   "cell_type": "markdown",
   "metadata": {},
   "source": [
    "#### K Nearest Neighbor"
   ]
  },
  {
   "cell_type": "code",
   "execution_count": 31,
   "metadata": {},
   "outputs": [
    {
     "name": "stdout",
     "output_type": "stream",
     "text": [
      "[[ 20 397]\n",
      " [  5 737]]\n",
      "accuracy\n",
      "0.653\n",
      "precision\n",
      "0.650\n",
      "racall\n",
      "0.993\n",
      "f1score\n",
      "0.786\n",
      "TP=  737\n",
      "TN=  20\n",
      "FP=  397\n",
      "FN=  5\n",
      "sensitivity=  0.9932614555256065\n",
      "recall:  0.9932614555256065\n",
      "Specificity=  0.047961630695443645\n",
      "roc_auc_score  0.5206115431105252\n"
     ]
    }
   ],
   "source": [
    "spam_detect_model = KNeighborsClassifier().fit(X_train, y_train)\n",
    "y_pred=spam_detect_model.predict(X_test)\n",
    "\n",
    "accuracy = accuracy_score(y_test, y_pred)\n",
    "recall = recall_score(y_test, y_pred , average=\"binary\")\n",
    "precision = precision_score(y_test, y_pred , average=\"binary\")\n",
    "f1 = f1_score(y_test, y_pred, average=\"binary\")\n",
    "print(confusion_matrix(y_test, y_pred))\n",
    "print(\"accuracy\")\n",
    "print(\"%.3f\" %accuracy)\n",
    "print(\"precision\")\n",
    "print(\"%.3f\" %precision)\n",
    "print(\"racall\")\n",
    "print(\"%.3f\" %recall)\n",
    "print(\"f1score\")\n",
    "print(\"%.3f\" %f1)\n",
    "from sklearn.metrics import roc_auc_score\n",
    "roc_auc_score(y_test, y_pred)\n",
    "from sklearn import metrics\n",
    "# save confusion matrix and slice into four pieces\n",
    "confusion=metrics.confusion_matrix(y_test, y_pred)\n",
    "TP = confusion[1, 1]\n",
    "TN = confusion[0, 0]\n",
    "FP = confusion[0, 1]\n",
    "FN = confusion[1, 0]\n",
    "print (\"TP= \",TP)\n",
    "print (\"TN= \",TN)\n",
    "print (\"FP= \",FP)\n",
    "print (\"FN= \",FN)\n",
    "sensitivity = TP / float(FN + TP)\n",
    "print(\"sensitivity= \",sensitivity)\n",
    "print(\"recall: \", metrics.recall_score(y_test, y_pred))\n",
    "specificity = TN / (TN + FP)\n",
    "print(\"Specificity= \",specificity)\n",
    "import matplotlib.pyplot as plt\n",
    "from sklearn.metrics import roc_auc_score\n",
    "print (\"roc_auc_score \",roc_auc_score(y_test, y_pred))"
   ]
  },
  {
   "cell_type": "markdown",
   "metadata": {},
   "source": [
    "#### Decision Tree"
   ]
  },
  {
   "cell_type": "code",
   "execution_count": 32,
   "metadata": {},
   "outputs": [
    {
     "name": "stdout",
     "output_type": "stream",
     "text": [
      "[[272 145]\n",
      " [169 573]]\n",
      "accuracy\n",
      "0.729\n",
      "precision\n",
      "0.798\n",
      "racall\n",
      "0.772\n",
      "f1score\n",
      "0.785\n",
      "TP=  573\n",
      "TN=  272\n",
      "FP=  145\n",
      "FN=  169\n",
      "sensitivity=  0.7722371967654986\n",
      "recall:  0.7722371967654986\n",
      "Specificity=  0.6522781774580336\n",
      "roc_auc_score  0.7122576871117661\n"
     ]
    }
   ],
   "source": [
    "spam_detect_model = DecisionTreeClassifier().fit(X_train, y_train)\n",
    "y_pred=spam_detect_model.predict(X_test)\n",
    "\n",
    "accuracy = accuracy_score(y_test, y_pred)\n",
    "recall = recall_score(y_test, y_pred , average=\"binary\")\n",
    "precision = precision_score(y_test, y_pred , average=\"binary\")\n",
    "f1 = f1_score(y_test, y_pred, average=\"binary\")\n",
    "print(confusion_matrix(y_test, y_pred))\n",
    "print(\"accuracy\")\n",
    "print(\"%.3f\" %accuracy)\n",
    "print(\"precision\")\n",
    "print(\"%.3f\" %precision)\n",
    "print(\"racall\")\n",
    "print(\"%.3f\" %recall)\n",
    "print(\"f1score\")\n",
    "print(\"%.3f\" %f1)\n",
    "from sklearn.metrics import roc_auc_score\n",
    "roc_auc_score(y_test, y_pred)\n",
    "from sklearn import metrics\n",
    "# save confusion matrix and slice into four pieces\n",
    "confusion=metrics.confusion_matrix(y_test, y_pred)\n",
    "TP = confusion[1, 1]\n",
    "TN = confusion[0, 0]\n",
    "FP = confusion[0, 1]\n",
    "FN = confusion[1, 0]\n",
    "print (\"TP= \",TP)\n",
    "print (\"TN= \",TN)\n",
    "print (\"FP= \",FP)\n",
    "print (\"FN= \",FN)\n",
    "sensitivity = TP / float(FN + TP)\n",
    "print(\"sensitivity= \",sensitivity)\n",
    "print(\"recall: \", metrics.recall_score(y_test, y_pred))\n",
    "specificity = TN / (TN + FP)\n",
    "print(\"Specificity= \",specificity)\n",
    "import matplotlib.pyplot as plt\n",
    "from sklearn.metrics import roc_auc_score\n",
    "print (\"roc_auc_score \",roc_auc_score(y_test, y_pred))"
   ]
  },
  {
   "cell_type": "markdown",
   "metadata": {},
   "source": [
    "#### Ada Boost"
   ]
  },
  {
   "cell_type": "code",
   "execution_count": 33,
   "metadata": {},
   "outputs": [
    {
     "name": "stdout",
     "output_type": "stream",
     "text": [
      "[[232 185]\n",
      " [113 629]]\n",
      "accuracy\n",
      "0.743\n",
      "precision\n",
      "0.773\n",
      "racall\n",
      "0.848\n",
      "f1score\n",
      "0.808\n",
      "TP=  629\n",
      "TN=  232\n",
      "FP=  185\n",
      "FN=  113\n",
      "sensitivity=  0.8477088948787062\n",
      "recall:  0.8477088948787062\n",
      "Specificity=  0.5563549160671463\n",
      "roc_auc_score  0.7020319054729262\n"
     ]
    }
   ],
   "source": [
    "spam_detect_model =AdaBoostClassifier(n_estimators=100).fit(X_train, y_train)\n",
    "y_pred=spam_detect_model.predict(X_test)\n",
    "\n",
    "accuracy = accuracy_score(y_test, y_pred)\n",
    "recall = recall_score(y_test, y_pred , average=\"binary\")\n",
    "precision = precision_score(y_test, y_pred , average=\"binary\")\n",
    "f1 = f1_score(y_test, y_pred, average=\"binary\")\n",
    "print(confusion_matrix(y_test, y_pred))\n",
    "print(\"accuracy\")\n",
    "print(\"%.3f\" %accuracy)\n",
    "print(\"precision\")\n",
    "print(\"%.3f\" %precision)\n",
    "print(\"racall\")\n",
    "print(\"%.3f\" %recall)\n",
    "print(\"f1score\")\n",
    "print(\"%.3f\" %f1)\n",
    "from sklearn.metrics import roc_auc_score\n",
    "roc_auc_score(y_test, y_pred)\n",
    "from sklearn import metrics\n",
    "# save confusion matrix and slice into four pieces\n",
    "confusion=metrics.confusion_matrix(y_test, y_pred)\n",
    "TP = confusion[1, 1]\n",
    "TN = confusion[0, 0]\n",
    "FP = confusion[0, 1]\n",
    "FN = confusion[1, 0]\n",
    "print (\"TP= \",TP)\n",
    "print (\"TN= \",TN)\n",
    "print (\"FP= \",FP)\n",
    "print (\"FN= \",FN)\n",
    "sensitivity = TP / float(FN + TP)\n",
    "print(\"sensitivity= \",sensitivity)\n",
    "print(\"recall: \", metrics.recall_score(y_test, y_pred))\n",
    "specificity = TN / (TN + FP)\n",
    "print(\"Specificity= \",specificity)\n",
    "import matplotlib.pyplot as plt\n",
    "from sklearn.metrics import roc_auc_score\n",
    "print (\"roc_auc_score \",roc_auc_score(y_test, y_pred))"
   ]
  },
  {
   "cell_type": "markdown",
   "metadata": {},
   "source": [
    "#### Random Forest"
   ]
  },
  {
   "cell_type": "code",
   "execution_count": 34,
   "metadata": {},
   "outputs": [
    {
     "name": "stdout",
     "output_type": "stream",
     "text": [
      "[[253 164]\n",
      " [ 83 659]]\n",
      "accuracy\n",
      "0.787\n",
      "precision\n",
      "0.801\n",
      "racall\n",
      "0.888\n",
      "f1score\n",
      "0.842\n",
      "TP=  659\n",
      "TN=  253\n",
      "FP=  164\n",
      "FN=  83\n",
      "sensitivity=  0.8881401617250674\n",
      "recall:  0.8881401617250674\n",
      "Specificity=  0.6067146282973621\n",
      "roc_auc_score  0.7474273950112148\n"
     ]
    }
   ],
   "source": [
    "spam_detect_model =RandomForestClassifier(n_estimators=100).fit(X_train, y_train)\n",
    "y_pred=spam_detect_model.predict(X_test)\n",
    "\n",
    "accuracy = accuracy_score(y_test, y_pred)\n",
    "recall = recall_score(y_test, y_pred , average=\"binary\")\n",
    "precision = precision_score(y_test, y_pred , average=\"binary\")\n",
    "f1 = f1_score(y_test, y_pred, average=\"binary\")\n",
    "print(confusion_matrix(y_test, y_pred))\n",
    "print(\"accuracy\")\n",
    "print(\"%.3f\" %accuracy)\n",
    "print(\"precision\")\n",
    "print(\"%.3f\" %precision)\n",
    "print(\"racall\")\n",
    "print(\"%.3f\" %recall)\n",
    "print(\"f1score\")\n",
    "print(\"%.3f\" %f1)\n",
    "from sklearn.metrics import roc_auc_score\n",
    "roc_auc_score(y_test, y_pred)\n",
    "from sklearn import metrics\n",
    "# save confusion matrix and slice into four pieces\n",
    "confusion=metrics.confusion_matrix(y_test, y_pred)\n",
    "TP = confusion[1, 1]\n",
    "TN = confusion[0, 0]\n",
    "FP = confusion[0, 1]\n",
    "FN = confusion[1, 0]\n",
    "print (\"TP= \",TP)\n",
    "print (\"TN= \",TN)\n",
    "print (\"FP= \",FP)\n",
    "print (\"FN= \",FN)\n",
    "sensitivity = TP / float(FN + TP)\n",
    "print(\"sensitivity= \",sensitivity)\n",
    "print(\"recall: \", metrics.recall_score(y_test, y_pred))\n",
    "specificity = TN / (TN + FP)\n",
    "print(\"Specificity= \",specificity)\n",
    "import matplotlib.pyplot as plt\n",
    "from sklearn.metrics import roc_auc_score\n",
    "print (\"roc_auc_score \",roc_auc_score(y_test, y_pred))"
   ]
  },
  {
   "cell_type": "code",
   "execution_count": null,
   "metadata": {},
   "outputs": [],
   "source": []
  },
  {
   "cell_type": "code",
   "execution_count": null,
   "metadata": {},
   "outputs": [],
   "source": []
  },
  {
   "cell_type": "code",
   "execution_count": null,
   "metadata": {},
   "outputs": [],
   "source": []
  }
 ],
 "metadata": {
  "kernelspec": {
   "display_name": "Python 3",
   "language": "python",
   "name": "python3"
  },
  "language_info": {
   "codemirror_mode": {
    "name": "ipython",
    "version": 3
   },
   "file_extension": ".py",
   "mimetype": "text/x-python",
   "name": "python",
   "nbconvert_exporter": "python",
   "pygments_lexer": "ipython3",
   "version": "3.6.8"
  }
 },
 "nbformat": 4,
 "nbformat_minor": 2
}
