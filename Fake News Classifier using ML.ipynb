{
 "cells": [
  {
   "cell_type": "code",
   "execution_count": 1,
   "metadata": {},
   "outputs": [],
   "source": [
    "import nltk\n",
    "import re\n",
    "from nltk.corpus import stopwords\n",
    "from nltk.stem.porter import PorterStemmer\n",
    "from nltk.stem import WordNetLemmatizer\n",
    "from sklearn.feature_extraction.text import TfidfVectorizer\n",
    "import pandas as pd\n",
    "from sklearn.model_selection import train_test_split\n",
    "from sklearn.metrics import (precision_score, recall_score,f1_score, accuracy_score,mean_squared_error,mean_absolute_error)\n",
    "from sklearn.metrics import confusion_matrix\n",
    "from sklearn.linear_model import LogisticRegression\n",
    "from sklearn.naive_bayes import GaussianNB\n",
    "from sklearn.neighbors import KNeighborsClassifier\n",
    "from sklearn.tree import DecisionTreeClassifier\n",
    "from sklearn.metrics import (precision_score, recall_score,f1_score, accuracy_score,mean_squared_error,mean_absolute_error)\n",
    "from sklearn.ensemble import AdaBoostClassifier\n",
    "from sklearn.ensemble import RandomForestClassifier\n",
    "from sklearn.svm import SVC\n",
    "from sklearn import svm\n",
    "from sklearn.naive_bayes import MultinomialNB"
   ]
  },
  {
   "cell_type": "code",
   "execution_count": 3,
   "metadata": {},
   "outputs": [
    {
     "data": {
      "text/html": [
       "<div>\n",
       "<style scoped>\n",
       "    .dataframe tbody tr th:only-of-type {\n",
       "        vertical-align: middle;\n",
       "    }\n",
       "\n",
       "    .dataframe tbody tr th {\n",
       "        vertical-align: top;\n",
       "    }\n",
       "\n",
       "    .dataframe thead th {\n",
       "        text-align: right;\n",
       "    }\n",
       "</style>\n",
       "<table border=\"1\" class=\"dataframe\">\n",
       "  <thead>\n",
       "    <tr style=\"text-align: right;\">\n",
       "      <th></th>\n",
       "      <th>title</th>\n",
       "      <th>text</th>\n",
       "      <th>label</th>\n",
       "    </tr>\n",
       "  </thead>\n",
       "  <tbody>\n",
       "    <tr>\n",
       "      <th>0</th>\n",
       "      <td>House Dem Aide: We Didnât Even See Comeyâs...</td>\n",
       "      <td>House Dem Aide: We Didnât Even See Comeyâs...</td>\n",
       "      <td>1</td>\n",
       "    </tr>\n",
       "    <tr>\n",
       "      <th>1</th>\n",
       "      <td>FLYNN: Hillary Clinton, Big Woman on Campus - ...</td>\n",
       "      <td>Ever get the feeling your life circles the rou...</td>\n",
       "      <td>0</td>\n",
       "    </tr>\n",
       "    <tr>\n",
       "      <th>2</th>\n",
       "      <td>Why the Truth Might Get You Fired</td>\n",
       "      <td>Why the Truth Might Get You Fired October 29, ...</td>\n",
       "      <td>1</td>\n",
       "    </tr>\n",
       "    <tr>\n",
       "      <th>3</th>\n",
       "      <td>15 Civilians Killed In Single US Airstrike Hav...</td>\n",
       "      <td>Videos 15 Civilians Killed In Single US Airstr...</td>\n",
       "      <td>1</td>\n",
       "    </tr>\n",
       "    <tr>\n",
       "      <th>4</th>\n",
       "      <td>Iranian woman jailed for fictional unpublished...</td>\n",
       "      <td>Print \\nAn Iranian woman has been sentenced to...</td>\n",
       "      <td>1</td>\n",
       "    </tr>\n",
       "  </tbody>\n",
       "</table>\n",
       "</div>"
      ],
      "text/plain": [
       "                                               title  \\\n",
       "0  House Dem Aide: We Didnât Even See Comeyâs...   \n",
       "1  FLYNN: Hillary Clinton, Big Woman on Campus - ...   \n",
       "2                  Why the Truth Might Get You Fired   \n",
       "3  15 Civilians Killed In Single US Airstrike Hav...   \n",
       "4  Iranian woman jailed for fictional unpublished...   \n",
       "\n",
       "                                                text  label  \n",
       "0  House Dem Aide: We Didnât Even See Comeyâs...      1  \n",
       "1  Ever get the feeling your life circles the rou...      0  \n",
       "2  Why the Truth Might Get You Fired October 29, ...      1  \n",
       "3  Videos 15 Civilians Killed In Single US Airstr...      1  \n",
       "4  Print \\nAn Iranian woman has been sentenced to...      1  "
      ]
     },
     "execution_count": 3,
     "metadata": {},
     "output_type": "execute_result"
    }
   ],
   "source": [
    "col_list=['title','text','label']\n",
    "messages = pd.read_csv(\"train.csv\",encoding='ISO-8859-1',usecols=col_list)\n",
    "#messages.columns=['Label','Message']\n",
    "messages.head()\n",
    "\n"
   ]
  },
  {
   "cell_type": "code",
   "execution_count": 26,
   "metadata": {},
   "outputs": [
    {
     "data": {
      "text/plain": [
       "0    House Dem Aide: We Didnât Even See Comeyâs...\n",
       "1    FLYNN: Hillary Clinton, Big Woman on Campus - ...\n",
       "2                    Why the Truth Might Get You Fired\n",
       "3    15 Civilians Killed In Single US Airstrike Hav...\n",
       "4    Iranian woman jailed for fictional unpublished...\n",
       "Name: title, dtype: object"
      ]
     },
     "execution_count": 26,
     "metadata": {},
     "output_type": "execute_result"
    }
   ],
   "source": [
    "messages['title'].head()"
   ]
  },
  {
   "cell_type": "code",
   "execution_count": 25,
   "metadata": {},
   "outputs": [
    {
     "data": {
      "text/plain": [
       "index                                                    0\n",
       "title    House Dem Aide: We Didnât Even See Comeyâs...\n",
       "text     House Dem Aide: We Didnât Even See Comeyâs...\n",
       "label                                                    1\n",
       "Name: 0, dtype: object"
      ]
     },
     "execution_count": 25,
     "metadata": {},
     "output_type": "execute_result"
    }
   ],
   "source": [
    "messages.iloc[0]"
   ]
  },
  {
   "cell_type": "code",
   "execution_count": 4,
   "metadata": {},
   "outputs": [
    {
     "data": {
      "text/plain": [
       "(20800, 3)"
      ]
     },
     "execution_count": 4,
     "metadata": {},
     "output_type": "execute_result"
    }
   ],
   "source": [
    "messages.shape"
   ]
  },
  {
   "cell_type": "code",
   "execution_count": 6,
   "metadata": {},
   "outputs": [
    {
     "data": {
      "text/plain": [
       "(20203, 3)"
      ]
     },
     "execution_count": 6,
     "metadata": {},
     "output_type": "execute_result"
    }
   ],
   "source": [
    "messages=messages.dropna()\n",
    "messages.shape"
   ]
  },
  {
   "cell_type": "code",
   "execution_count": 7,
   "metadata": {},
   "outputs": [],
   "source": [
    "messages.reset_index(inplace=True)"
   ]
  },
  {
   "cell_type": "code",
   "execution_count": 8,
   "metadata": {},
   "outputs": [
    {
     "data": {
      "text/plain": [
       "0    1\n",
       "1    0\n",
       "2    1\n",
       "3    1\n",
       "4    1\n",
       "Name: label, dtype: int64"
      ]
     },
     "execution_count": 8,
     "metadata": {},
     "output_type": "execute_result"
    }
   ],
   "source": [
    "y=messages['label']\n",
    "y.head()"
   ]
  },
  {
   "cell_type": "code",
   "execution_count": 9,
   "metadata": {},
   "outputs": [],
   "source": [
    "lemmatizer=  WordNetLemmatizer()\n",
    "Array1= []\n",
    "for i in range(len(messages)):\n",
    "    message = re.sub('[^a-zA-Z]', ' ', messages['title'][i])\n",
    "    message = message.lower()\n",
    "    message = message.split()\n",
    "    word = [lemmatizer.lemmatize(word) for word in message if not word in set(stopwords.words('english'))]\n",
    "    message = ' '.join(word)\n",
    "    Array1.append(message)\n",
    "    \n"
   ]
  },
  {
   "cell_type": "code",
   "execution_count": 41,
   "metadata": {},
   "outputs": [
    {
     "data": {
      "text/plain": [
       "20203"
      ]
     },
     "execution_count": 41,
     "metadata": {},
     "output_type": "execute_result"
    }
   ],
   "source": [
    "len(Array1)"
   ]
  },
  {
   "cell_type": "code",
   "execution_count": 36,
   "metadata": {},
   "outputs": [],
   "source": [
    "cv= TfidfVectorizer(max_features=10000,ngram_range=(1,5))\n",
    "X = cv.fit_transform(Array1).toarray()"
   ]
  },
  {
   "cell_type": "code",
   "execution_count": 37,
   "metadata": {},
   "outputs": [
    {
     "data": {
      "text/plain": [
       "array([[0., 0., 0., ..., 0., 0., 0.],\n",
       "       [0., 0., 0., ..., 0., 0., 0.],\n",
       "       [0., 0., 0., ..., 0., 0., 0.],\n",
       "       ...,\n",
       "       [0., 0., 0., ..., 0., 0., 0.],\n",
       "       [0., 0., 0., ..., 0., 0., 0.],\n",
       "       [0., 0., 0., ..., 0., 0., 0.]])"
      ]
     },
     "execution_count": 37,
     "metadata": {},
     "output_type": "execute_result"
    }
   ],
   "source": [
    "X"
   ]
  },
  {
   "cell_type": "code",
   "execution_count": 38,
   "metadata": {},
   "outputs": [
    {
     "data": {
      "text/plain": [
       "array([1, 0, 1, ..., 0, 1, 1], dtype=uint8)"
      ]
     },
     "execution_count": 38,
     "metadata": {},
     "output_type": "execute_result"
    }
   ],
   "source": [
    "y=pd.get_dummies(messages['label'])\n",
    "y=y.iloc[:,1].values\n",
    "y"
   ]
  },
  {
   "cell_type": "code",
   "execution_count": 39,
   "metadata": {},
   "outputs": [],
   "source": [
    "X_train, X_test, y_train, y_test = train_test_split(X, y, test_size = 0.20, random_state = 0)\n"
   ]
  },
  {
   "cell_type": "markdown",
   "metadata": {},
   "source": [
    "#### Multinomial Naive Bayes"
   ]
  },
  {
   "cell_type": "code",
   "execution_count": 40,
   "metadata": {},
   "outputs": [
    {
     "name": "stdout",
     "output_type": "stream",
     "text": [
      "[[1971  154]\n",
      " [ 263 1653]]\n",
      "accuracy\n",
      "0.897\n",
      "precision\n",
      "0.915\n",
      "racall\n",
      "0.863\n",
      "f1score\n",
      "0.888\n",
      "TP=  1653\n",
      "TN=  1971\n",
      "FP=  154\n",
      "FN=  263\n",
      "sensitivity=  0.8627348643006263\n",
      "recall:  0.8627348643006263\n",
      "Specificity=  0.9275294117647059\n",
      "roc_auc_score  0.8951321380326661\n"
     ]
    }
   ],
   "source": [
    "spam_detect_model = MultinomialNB().fit(X_train, y_train)\n",
    "y_pred=spam_detect_model.predict(X_test)\n",
    "accuracy = accuracy_score(y_test, y_pred)\n",
    "recall = recall_score(y_test, y_pred , average=\"binary\")\n",
    "precision = precision_score(y_test, y_pred , average=\"binary\")\n",
    "f1 = f1_score(y_test, y_pred, average=\"binary\")\n",
    "print(confusion_matrix(y_test, y_pred))\n",
    "print(\"accuracy\")\n",
    "print(\"%.3f\" %accuracy)\n",
    "print(\"precision\")\n",
    "print(\"%.3f\" %precision)\n",
    "print(\"racall\")\n",
    "print(\"%.3f\" %recall)\n",
    "print(\"f1score\")\n",
    "print(\"%.3f\" %f1)\n",
    "from sklearn.metrics import roc_auc_score\n",
    "roc_auc_score(y_test, y_pred)\n",
    "from sklearn import metrics\n",
    "# save confusion matrix and slice into four pieces\n",
    "confusion=metrics.confusion_matrix(y_test, y_pred)\n",
    "TP = confusion[1, 1]\n",
    "TN = confusion[0, 0]\n",
    "FP = confusion[0, 1]\n",
    "FN = confusion[1, 0]\n",
    "print (\"TP= \",TP)\n",
    "print (\"TN= \",TN)\n",
    "print (\"FP= \",FP)\n",
    "print (\"FN= \",FN)\n",
    "sensitivity = TP / float(FN + TP)\n",
    "print(\"sensitivity= \",sensitivity)\n",
    "print(\"recall: \", metrics.recall_score(y_test, y_pred))\n",
    "specificity = TN / (TN + FP)\n",
    "print(\"Specificity= \",specificity)\n",
    "import matplotlib.pyplot as plt\n",
    "from sklearn.metrics import roc_auc_score\n",
    "print (\"roc_auc_score \",roc_auc_score(y_test, y_pred))\n"
   ]
  },
  {
   "cell_type": "markdown",
   "metadata": {},
   "source": [
    "#### Logistic Regression"
   ]
  },
  {
   "cell_type": "code",
   "execution_count": 18,
   "metadata": {},
   "outputs": [
    {
     "name": "stderr",
     "output_type": "stream",
     "text": [
      "C:\\Users\\TANZIL\\Anaconda3\\Anacanda_python\\lib\\site-packages\\sklearn\\linear_model\\logistic.py:433: FutureWarning: Default solver will be changed to 'lbfgs' in 0.22. Specify a solver to silence this warning.\n",
      "  FutureWarning)\n"
     ]
    },
    {
     "name": "stdout",
     "output_type": "stream",
     "text": [
      "[[1857  268]\n",
      " [  36 1880]]\n",
      "accuracy\n",
      "0.925\n",
      "precision\n",
      "0.875\n",
      "racall\n",
      "0.981\n",
      "f1score\n",
      "0.925\n",
      "TP=  1880\n",
      "TN=  1857\n",
      "FP=  268\n",
      "FN=  36\n",
      "sensitivity=  0.9812108559498957\n",
      "recall:  0.9812108559498957\n",
      "Specificity=  0.8738823529411764\n",
      "roc_auc_score  0.927546604445536\n"
     ]
    }
   ],
   "source": [
    "spam_detect_model = LogisticRegression().fit(X_train, y_train)\n",
    "y_pred=spam_detect_model.predict(X_test)\n",
    "\n",
    "accuracy = accuracy_score(y_test, y_pred)\n",
    "recall = recall_score(y_test, y_pred , average=\"binary\")\n",
    "precision = precision_score(y_test, y_pred , average=\"binary\")\n",
    "f1 = f1_score(y_test, y_pred, average=\"binary\")\n",
    "print(confusion_matrix(y_test, y_pred))\n",
    "print(\"accuracy\")\n",
    "print(\"%.3f\" %accuracy)\n",
    "print(\"precision\")\n",
    "print(\"%.3f\" %precision)\n",
    "print(\"racall\")\n",
    "print(\"%.3f\" %recall)\n",
    "print(\"f1score\")\n",
    "print(\"%.3f\" %f1)\n",
    "from sklearn.metrics import roc_auc_score\n",
    "roc_auc_score(y_test, y_pred)\n",
    "from sklearn import metrics\n",
    "# save confusion matrix and slice into four pieces\n",
    "confusion=metrics.confusion_matrix(y_test, y_pred)\n",
    "TP = confusion[1, 1]\n",
    "TN = confusion[0, 0]\n",
    "FP = confusion[0, 1]\n",
    "FN = confusion[1, 0]\n",
    "print (\"TP= \",TP)\n",
    "print (\"TN= \",TN)\n",
    "print (\"FP= \",FP)\n",
    "print (\"FN= \",FN)\n",
    "sensitivity = TP / float(FN + TP)\n",
    "print(\"sensitivity= \",sensitivity)\n",
    "print(\"recall: \", metrics.recall_score(y_test, y_pred))\n",
    "specificity = TN / (TN + FP)\n",
    "print(\"Specificity= \",specificity)\n",
    "import matplotlib.pyplot as plt\n",
    "from sklearn.metrics import roc_auc_score\n",
    "print (\"roc_auc_score \",roc_auc_score(y_test, y_pred))"
   ]
  },
  {
   "cell_type": "markdown",
   "metadata": {},
   "source": [
    "#### Gaussian Naive Bayes"
   ]
  },
  {
   "cell_type": "code",
   "execution_count": 17,
   "metadata": {},
   "outputs": [
    {
     "name": "stdout",
     "output_type": "stream",
     "text": [
      "[[1732  393]\n",
      " [ 780 1136]]\n",
      "accuracy\n",
      "0.710\n",
      "precision\n",
      "0.743\n",
      "racall\n",
      "0.593\n",
      "f1score\n",
      "0.660\n",
      "TP=  1136\n",
      "TN=  1732\n",
      "FP=  393\n",
      "FN=  780\n",
      "sensitivity=  0.592901878914405\n",
      "recall:  0.592901878914405\n",
      "Specificity=  0.8150588235294117\n",
      "roc_auc_score  0.7039803512219084\n"
     ]
    }
   ],
   "source": [
    "spam_detect_model = GaussianNB().fit(X_train, y_train)\n",
    "y_pred=spam_detect_model.predict(X_test)\n",
    "\n",
    "accuracy = accuracy_score(y_test, y_pred)\n",
    "recall = recall_score(y_test, y_pred , average=\"binary\")\n",
    "precision = precision_score(y_test, y_pred , average=\"binary\")\n",
    "f1 = f1_score(y_test, y_pred, average=\"binary\")\n",
    "print(confusion_matrix(y_test, y_pred))\n",
    "print(\"accuracy\")\n",
    "print(\"%.3f\" %accuracy)\n",
    "print(\"precision\")\n",
    "print(\"%.3f\" %precision)\n",
    "print(\"racall\")\n",
    "print(\"%.3f\" %recall)\n",
    "print(\"f1score\")\n",
    "print(\"%.3f\" %f1)\n",
    "from sklearn.metrics import roc_auc_score\n",
    "roc_auc_score(y_test, y_pred)\n",
    "from sklearn import metrics\n",
    "# save confusion matrix and slice into four pieces\n",
    "confusion=metrics.confusion_matrix(y_test, y_pred)\n",
    "TP = confusion[1, 1]\n",
    "TN = confusion[0, 0]\n",
    "FP = confusion[0, 1]\n",
    "FN = confusion[1, 0]\n",
    "print (\"TP= \",TP)\n",
    "print (\"TN= \",TN)\n",
    "print (\"FP= \",FP)\n",
    "print (\"FN= \",FN)\n",
    "sensitivity = TP / float(FN + TP)\n",
    "print(\"sensitivity= \",sensitivity)\n",
    "print(\"recall: \", metrics.recall_score(y_test, y_pred))\n",
    "specificity = TN / (TN + FP)\n",
    "print(\"Specificity= \",specificity)\n",
    "import matplotlib.pyplot as plt\n",
    "from sklearn.metrics import roc_auc_score\n",
    "print (\"roc_auc_score \",roc_auc_score(y_test, y_pred))"
   ]
  },
  {
   "cell_type": "markdown",
   "metadata": {},
   "source": [
    "#### K Nearest Neighbor"
   ]
  },
  {
   "cell_type": "code",
   "execution_count": 19,
   "metadata": {},
   "outputs": [
    {
     "name": "stdout",
     "output_type": "stream",
     "text": [
      "[[  50 2075]\n",
      " [   0 1916]]\n",
      "accuracy\n",
      "0.487\n",
      "precision\n",
      "0.480\n",
      "racall\n",
      "1.000\n",
      "f1score\n",
      "0.649\n",
      "TP=  1916\n",
      "TN=  50\n",
      "FP=  2075\n",
      "FN=  0\n",
      "sensitivity=  1.0\n",
      "recall:  1.0\n",
      "Specificity=  0.023529411764705882\n",
      "roc_auc_score  0.5117647058823529\n"
     ]
    }
   ],
   "source": [
    "spam_detect_model = KNeighborsClassifier().fit(X_train, y_train)\n",
    "y_pred=spam_detect_model.predict(X_test)\n",
    "\n",
    "accuracy = accuracy_score(y_test, y_pred)\n",
    "recall = recall_score(y_test, y_pred , average=\"binary\")\n",
    "precision = precision_score(y_test, y_pred , average=\"binary\")\n",
    "f1 = f1_score(y_test, y_pred, average=\"binary\")\n",
    "print(confusion_matrix(y_test, y_pred))\n",
    "print(\"accuracy\")\n",
    "print(\"%.3f\" %accuracy)\n",
    "print(\"precision\")\n",
    "print(\"%.3f\" %precision)\n",
    "print(\"racall\")\n",
    "print(\"%.3f\" %recall)\n",
    "print(\"f1score\")\n",
    "print(\"%.3f\" %f1)\n",
    "from sklearn.metrics import roc_auc_score\n",
    "roc_auc_score(y_test, y_pred)\n",
    "from sklearn import metrics\n",
    "# save confusion matrix and slice into four pieces\n",
    "confusion=metrics.confusion_matrix(y_test, y_pred)\n",
    "TP = confusion[1, 1]\n",
    "TN = confusion[0, 0]\n",
    "FP = confusion[0, 1]\n",
    "FN = confusion[1, 0]\n",
    "print (\"TP= \",TP)\n",
    "print (\"TN= \",TN)\n",
    "print (\"FP= \",FP)\n",
    "print (\"FN= \",FN)\n",
    "sensitivity = TP / float(FN + TP)\n",
    "print(\"sensitivity= \",sensitivity)\n",
    "print(\"recall: \", metrics.recall_score(y_test, y_pred))\n",
    "specificity = TN / (TN + FP)\n",
    "print(\"Specificity= \",specificity)\n",
    "import matplotlib.pyplot as plt\n",
    "from sklearn.metrics import roc_auc_score\n",
    "print (\"roc_auc_score \",roc_auc_score(y_test, y_pred))"
   ]
  },
  {
   "cell_type": "markdown",
   "metadata": {},
   "source": [
    "#### Decision Tree"
   ]
  },
  {
   "cell_type": "code",
   "execution_count": 20,
   "metadata": {},
   "outputs": [
    {
     "name": "stdout",
     "output_type": "stream",
     "text": [
      "[[1940  185]\n",
      " [ 137 1779]]\n",
      "accuracy\n",
      "0.920\n",
      "precision\n",
      "0.906\n",
      "racall\n",
      "0.928\n",
      "f1score\n",
      "0.917\n",
      "TP=  1779\n",
      "TN=  1940\n",
      "FP=  185\n",
      "FN=  137\n",
      "sensitivity=  0.9284968684759917\n",
      "recall:  0.9284968684759917\n",
      "Specificity=  0.9129411764705883\n",
      "roc_auc_score  0.92071902247329\n"
     ]
    }
   ],
   "source": [
    "spam_detect_model = DecisionTreeClassifier().fit(X_train, y_train)\n",
    "y_pred=spam_detect_model.predict(X_test)\n",
    "\n",
    "accuracy = accuracy_score(y_test, y_pred)\n",
    "recall = recall_score(y_test, y_pred , average=\"binary\")\n",
    "precision = precision_score(y_test, y_pred , average=\"binary\")\n",
    "f1 = f1_score(y_test, y_pred, average=\"binary\")\n",
    "print(confusion_matrix(y_test, y_pred))\n",
    "print(\"accuracy\")\n",
    "print(\"%.3f\" %accuracy)\n",
    "print(\"precision\")\n",
    "print(\"%.3f\" %precision)\n",
    "print(\"racall\")\n",
    "print(\"%.3f\" %recall)\n",
    "print(\"f1score\")\n",
    "print(\"%.3f\" %f1)\n",
    "from sklearn.metrics import roc_auc_score\n",
    "roc_auc_score(y_test, y_pred)\n",
    "from sklearn import metrics\n",
    "# save confusion matrix and slice into four pieces\n",
    "confusion=metrics.confusion_matrix(y_test, y_pred)\n",
    "TP = confusion[1, 1]\n",
    "TN = confusion[0, 0]\n",
    "FP = confusion[0, 1]\n",
    "FN = confusion[1, 0]\n",
    "print (\"TP= \",TP)\n",
    "print (\"TN= \",TN)\n",
    "print (\"FP= \",FP)\n",
    "print (\"FN= \",FN)\n",
    "sensitivity = TP / float(FN + TP)\n",
    "print(\"sensitivity= \",sensitivity)\n",
    "print(\"recall: \", metrics.recall_score(y_test, y_pred))\n",
    "specificity = TN / (TN + FP)\n",
    "print(\"Specificity= \",specificity)\n",
    "import matplotlib.pyplot as plt\n",
    "from sklearn.metrics import roc_auc_score\n",
    "print (\"roc_auc_score \",roc_auc_score(y_test, y_pred))"
   ]
  },
  {
   "cell_type": "markdown",
   "metadata": {},
   "source": [
    "#### Ada Boost"
   ]
  },
  {
   "cell_type": "code",
   "execution_count": 21,
   "metadata": {},
   "outputs": [
    {
     "name": "stdout",
     "output_type": "stream",
     "text": [
      "[[1888  237]\n",
      " [  69 1847]]\n",
      "accuracy\n",
      "0.924\n",
      "precision\n",
      "0.886\n",
      "racall\n",
      "0.964\n",
      "f1score\n",
      "0.923\n",
      "TP=  1847\n",
      "TN=  1888\n",
      "FP=  237\n",
      "FN=  69\n",
      "sensitivity=  0.9639874739039666\n",
      "recall:  0.9639874739039666\n",
      "Specificity=  0.8884705882352941\n",
      "roc_auc_score  0.9262290310696304\n"
     ]
    }
   ],
   "source": [
    "spam_detect_model =AdaBoostClassifier(n_estimators=100).fit(X_train, y_train)\n",
    "y_pred=spam_detect_model.predict(X_test)\n",
    "\n",
    "accuracy = accuracy_score(y_test, y_pred)\n",
    "recall = recall_score(y_test, y_pred , average=\"binary\")\n",
    "precision = precision_score(y_test, y_pred , average=\"binary\")\n",
    "f1 = f1_score(y_test, y_pred, average=\"binary\")\n",
    "print(confusion_matrix(y_test, y_pred))\n",
    "print(\"accuracy\")\n",
    "print(\"%.3f\" %accuracy)\n",
    "print(\"precision\")\n",
    "print(\"%.3f\" %precision)\n",
    "print(\"racall\")\n",
    "print(\"%.3f\" %recall)\n",
    "print(\"f1score\")\n",
    "print(\"%.3f\" %f1)\n",
    "from sklearn.metrics import roc_auc_score\n",
    "roc_auc_score(y_test, y_pred)\n",
    "from sklearn import metrics\n",
    "# save confusion matrix and slice into four pieces\n",
    "confusion=metrics.confusion_matrix(y_test, y_pred)\n",
    "TP = confusion[1, 1]\n",
    "TN = confusion[0, 0]\n",
    "FP = confusion[0, 1]\n",
    "FN = confusion[1, 0]\n",
    "print (\"TP= \",TP)\n",
    "print (\"TN= \",TN)\n",
    "print (\"FP= \",FP)\n",
    "print (\"FN= \",FN)\n",
    "sensitivity = TP / float(FN + TP)\n",
    "print(\"sensitivity= \",sensitivity)\n",
    "print(\"recall: \", metrics.recall_score(y_test, y_pred))\n",
    "specificity = TN / (TN + FP)\n",
    "print(\"Specificity= \",specificity)\n",
    "import matplotlib.pyplot as plt\n",
    "from sklearn.metrics import roc_auc_score\n",
    "print (\"roc_auc_score \",roc_auc_score(y_test, y_pred))"
   ]
  },
  {
   "cell_type": "markdown",
   "metadata": {},
   "source": [
    "#### Random Forest"
   ]
  },
  {
   "cell_type": "code",
   "execution_count": 22,
   "metadata": {},
   "outputs": [
    {
     "name": "stdout",
     "output_type": "stream",
     "text": [
      "[[1903  222]\n",
      " [  31 1885]]\n",
      "accuracy\n",
      "0.937\n",
      "precision\n",
      "0.895\n",
      "racall\n",
      "0.984\n",
      "f1score\n",
      "0.937\n",
      "TP=  1885\n",
      "TN=  1903\n",
      "FP=  222\n",
      "FN=  31\n",
      "sensitivity=  0.9838204592901879\n",
      "recall:  0.9838204592901879\n",
      "Specificity=  0.8955294117647059\n",
      "roc_auc_score  0.9396749355274469\n"
     ]
    }
   ],
   "source": [
    "spam_detect_model =RandomForestClassifier(n_estimators=100).fit(X_train, y_train)\n",
    "y_pred=spam_detect_model.predict(X_test)\n",
    "\n",
    "accuracy = accuracy_score(y_test, y_pred)\n",
    "recall = recall_score(y_test, y_pred , average=\"binary\")\n",
    "precision = precision_score(y_test, y_pred , average=\"binary\")\n",
    "f1 = f1_score(y_test, y_pred, average=\"binary\")\n",
    "print(confusion_matrix(y_test, y_pred))\n",
    "print(\"accuracy\")\n",
    "print(\"%.3f\" %accuracy)\n",
    "print(\"precision\")\n",
    "print(\"%.3f\" %precision)\n",
    "print(\"racall\")\n",
    "print(\"%.3f\" %recall)\n",
    "print(\"f1score\")\n",
    "print(\"%.3f\" %f1)\n",
    "from sklearn.metrics import roc_auc_score\n",
    "roc_auc_score(y_test, y_pred)\n",
    "from sklearn import metrics\n",
    "# save confusion matrix and slice into four pieces\n",
    "confusion=metrics.confusion_matrix(y_test, y_pred)\n",
    "TP = confusion[1, 1]\n",
    "TN = confusion[0, 0]\n",
    "FP = confusion[0, 1]\n",
    "FN = confusion[1, 0]\n",
    "print (\"TP= \",TP)\n",
    "print (\"TN= \",TN)\n",
    "print (\"FP= \",FP)\n",
    "print (\"FN= \",FN)\n",
    "sensitivity = TP / float(FN + TP)\n",
    "print(\"sensitivity= \",sensitivity)\n",
    "print(\"recall: \", metrics.recall_score(y_test, y_pred))\n",
    "specificity = TN / (TN + FP)\n",
    "print(\"Specificity= \",specificity)\n",
    "import matplotlib.pyplot as plt\n",
    "from sklearn.metrics import roc_auc_score\n",
    "print (\"roc_auc_score \",roc_auc_score(y_test, y_pred))"
   ]
  }
 ],
 "metadata": {
  "kernelspec": {
   "display_name": "Python 3",
   "language": "python",
   "name": "python3"
  },
  "language_info": {
   "codemirror_mode": {
    "name": "ipython",
    "version": 3
   },
   "file_extension": ".py",
   "mimetype": "text/x-python",
   "name": "python",
   "nbconvert_exporter": "python",
   "pygments_lexer": "ipython3",
   "version": "3.6.8"
  }
 },
 "nbformat": 4,
 "nbformat_minor": 2
}
