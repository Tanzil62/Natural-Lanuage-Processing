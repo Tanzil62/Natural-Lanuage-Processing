{
 "cells": [
  {
   "cell_type": "code",
   "execution_count": 16,
   "metadata": {},
   "outputs": [
    {
     "ename": "ModuleNotFoundError",
     "evalue": "No module named 'gensim'",
     "output_type": "error",
     "traceback": [
      "\u001b[1;31m---------------------------------------------------------------------------\u001b[0m",
      "\u001b[1;31mModuleNotFoundError\u001b[0m                       Traceback (most recent call last)",
      "\u001b[1;32m<ipython-input-16-77e5a2a1725b>\u001b[0m in \u001b[0;36m<module>\u001b[1;34m\u001b[0m\n\u001b[0;32m      5\u001b[0m \u001b[1;32mfrom\u001b[0m \u001b[0mnltk\u001b[0m\u001b[1;33m.\u001b[0m\u001b[0mstem\u001b[0m \u001b[1;32mimport\u001b[0m \u001b[0mWordNetLemmatizer\u001b[0m\u001b[1;33m\u001b[0m\u001b[1;33m\u001b[0m\u001b[0m\n\u001b[0;32m      6\u001b[0m \u001b[1;32mfrom\u001b[0m \u001b[0msklearn\u001b[0m\u001b[1;33m.\u001b[0m\u001b[0mfeature_extraction\u001b[0m\u001b[1;33m.\u001b[0m\u001b[0mtext\u001b[0m \u001b[1;32mimport\u001b[0m \u001b[0mTfidfVectorizer\u001b[0m\u001b[1;33m\u001b[0m\u001b[1;33m\u001b[0m\u001b[0m\n\u001b[1;32m----> 7\u001b[1;33m \u001b[1;32mfrom\u001b[0m \u001b[0mgensim\u001b[0m\u001b[1;33m.\u001b[0m\u001b[0mmodels\u001b[0m \u001b[1;32mimport\u001b[0m \u001b[0mWord2Vec\u001b[0m\u001b[1;33m\u001b[0m\u001b[1;33m\u001b[0m\u001b[0m\n\u001b[0m",
      "\u001b[1;31mModuleNotFoundError\u001b[0m: No module named 'gensim'"
     ]
    }
   ],
   "source": [
    "import nltk\n",
    "import re\n",
    "from nltk.corpus import stopwords\n",
    "from nltk.stem.porter import PorterStemmer\n",
    "from nltk.stem import WordNetLemmatizer\n",
    "from sklearn.feature_extraction.text import TfidfVectorizer\n",
    "from gensim.models import Word2Vec"
   ]
  },
  {
   "cell_type": "code",
   "execution_count": 17,
   "metadata": {},
   "outputs": [
    {
     "name": "stdout",
     "output_type": "stream",
     "text": [
      "Collecting gensim\n",
      "  Downloading https://files.pythonhosted.org/packages/1d/9a/071a3172bc3383e3132b8fd009d82bc96d4718043f2b654bbb2c65640094/gensim-4.0.1-cp36-cp36m-win_amd64.whl (23.9MB)\n",
      "Requirement already satisfied: numpy>=1.11.3 in c:\\users\\tanzil\\anaconda3\\anacanda_python\\lib\\site-packages (from gensim) (1.15.4)\n",
      "Collecting Cython==0.29.21 (from gensim)\n",
      "  Downloading https://files.pythonhosted.org/packages/e5/95/c34ac0eac3ca01465e7c114cac6676676129f5457ad9c1887926031098af/Cython-0.29.21-cp36-cp36m-win_amd64.whl (1.6MB)\n",
      "Requirement already satisfied: scipy>=0.18.1 in c:\\users\\tanzil\\anaconda3\\anacanda_python\\lib\\site-packages (from gensim) (1.2.0)\n",
      "Collecting dataclasses; python_version < \"3.7\" (from gensim)\n",
      "  Downloading https://files.pythonhosted.org/packages/fe/ca/75fac5856ab5cfa51bbbcefa250182e50441074fdc3f803f6e76451fab43/dataclasses-0.8-py3-none-any.whl\n",
      "Collecting smart-open>=1.8.1 (from gensim)\n",
      "  Downloading https://files.pythonhosted.org/packages/e9/90/6ca525991e281ecdf204c5c1de854da6334068e44121c384b68c6a838e14/smart_open-5.1.0-py3-none-any.whl (57kB)\n",
      "Installing collected packages: Cython, dataclasses, smart-open, gensim\n",
      "  Found existing installation: Cython 0.29.4\n",
      "    Uninstalling Cython-0.29.4:\n",
      "      Successfully uninstalled Cython-0.29.4\n",
      "Successfully installed Cython-0.29.21 dataclasses-0.8 gensim-4.0.1 smart-open-5.1.0\n"
     ]
    }
   ],
   "source": [
    "! pip install gensim"
   ]
  },
  {
   "cell_type": "code",
   "execution_count": 7,
   "metadata": {},
   "outputs": [],
   "source": [
    "paragraph = \"Middle Tennessee State University (MTSU or MT) is a public university in Murfreesboro, Tennessee. \\\n",
    "Founded in 1911 as a normal school, the university consists of eight undergraduate colleges as well as a college \\\n",
    " of graduate studies, together offering more than 300 degree programs through more than 35 departments.\\\n",
    " [6][7] MTSU is most prominently known for its Recording Industry, Aerospace, Music and Concrete Industry \\\n",
    " Management programs. The university has partnered in research endeavors with the Oak Ridge National Laboratory,[8] \\\n",
    " the United States Army, and the United States Marine Corps.[9] In 2009, Middle Tennessee State University was ranked\\\n",
    " among the nations top 100 public universities by Forbes magazine.\""
   ]
  },
  {
   "cell_type": "code",
   "execution_count": 8,
   "metadata": {},
   "outputs": [],
   "source": [
    "sentences = nltk.sent_tokenize(paragraph)\n",
    "lemmatizer = WordNetLemmatizer()"
   ]
  },
  {
   "cell_type": "code",
   "execution_count": null,
   "metadata": {},
   "outputs": [],
   "source": []
  },
  {
   "cell_type": "code",
   "execution_count": null,
   "metadata": {},
   "outputs": [],
   "source": []
  },
  {
   "cell_type": "code",
   "execution_count": 9,
   "metadata": {},
   "outputs": [],
   "source": [
    "Array1= []\n",
    "for i in range(len(sentences)):\n",
    "    sentence = re.sub('[^A-Za-z]', ' ', sentences[i])\n",
    "    sentence = sentence.lower()\n",
    "    sentence = sentence.split()\n",
    "    word = [lemmatizer.lemmatize(word) for word in sentence if not word in set(stopwords.words('english'))]\n",
    "    sentence = ' '.join(word)\n",
    "    Array1.append(sentence)\n",
    "    \n"
   ]
  },
  {
   "cell_type": "code",
   "execution_count": 10,
   "metadata": {},
   "outputs": [
    {
     "data": {
      "text/plain": [
       "'middle tennessee state university ranked among nation top public university forbes magazine'"
      ]
     },
     "execution_count": 10,
     "metadata": {},
     "output_type": "execute_result"
    }
   ],
   "source": [
    "sentence"
   ]
  },
  {
   "cell_type": "code",
   "execution_count": 11,
   "metadata": {},
   "outputs": [
    {
     "data": {
      "text/plain": [
       "['middle tennessee state university mtsu mt public university murfreesboro tennessee',\n",
       " 'founded normal school university consists eight undergraduate college well college graduate study together offering degree program department',\n",
       " 'mtsu prominently known recording industry aerospace music concrete industry management program',\n",
       " 'university partnered research endeavor oak ridge national laboratory united state army united state marine corp',\n",
       " 'middle tennessee state university ranked among nation top public university forbes magazine']"
      ]
     },
     "execution_count": 11,
     "metadata": {},
     "output_type": "execute_result"
    }
   ],
   "source": [
    " Array1"
   ]
  },
  {
   "cell_type": "code",
   "execution_count": 12,
   "metadata": {},
   "outputs": [],
   "source": [
    "cv= TfidfVectorizer()\n",
    "TFIDF = cv.fit_transform(Array1).toarray()\n"
   ]
  },
  {
   "cell_type": "code",
   "execution_count": 13,
   "metadata": {},
   "outputs": [
    {
     "data": {
      "text/plain": [
       "'middle tennessee state university ranked among nation top public university forbes magazine'"
      ]
     },
     "execution_count": 13,
     "metadata": {},
     "output_type": "execute_result"
    }
   ],
   "source": [
    "sentence"
   ]
  },
  {
   "cell_type": "code",
   "execution_count": 15,
   "metadata": {},
   "outputs": [
    {
     "data": {
      "text/plain": [
       "array([[0.        , 0.        , 0.        , 0.        , 0.        ,\n",
       "        0.        , 0.        , 0.        , 0.        , 0.        ,\n",
       "        0.        , 0.        , 0.        , 0.        , 0.        ,\n",
       "        0.        , 0.        , 0.        , 0.        , 0.        ,\n",
       "        0.28047292, 0.34763896, 0.28047292, 0.34763896, 0.        ,\n",
       "        0.        , 0.        , 0.        , 0.        , 0.        ,\n",
       "        0.        , 0.        , 0.        , 0.28047292, 0.        ,\n",
       "        0.        , 0.        , 0.        , 0.        , 0.23281786,\n",
       "        0.        , 0.56094585, 0.        , 0.        , 0.        ,\n",
       "        0.        , 0.39170745, 0.        ],\n",
       "       [0.        , 0.        , 0.        , 0.47181996, 0.        ,\n",
       "        0.23590998, 0.        , 0.23590998, 0.23590998, 0.23590998,\n",
       "        0.        , 0.        , 0.23590998, 0.23590998, 0.        ,\n",
       "        0.        , 0.        , 0.        , 0.        , 0.        ,\n",
       "        0.        , 0.        , 0.        , 0.        , 0.        ,\n",
       "        0.        , 0.        , 0.23590998, 0.        , 0.23590998,\n",
       "        0.        , 0.19033069, 0.        , 0.        , 0.        ,\n",
       "        0.        , 0.        , 0.        , 0.23590998, 0.        ,\n",
       "        0.23590998, 0.        , 0.23590998, 0.        , 0.23590998,\n",
       "        0.        , 0.13290757, 0.23590998],\n",
       "       [0.28511174, 0.        , 0.        , 0.        , 0.28511174,\n",
       "        0.        , 0.        , 0.        , 0.        , 0.        ,\n",
       "        0.        , 0.        , 0.        , 0.        , 0.57022348,\n",
       "        0.28511174, 0.        , 0.        , 0.28511174, 0.        ,\n",
       "        0.        , 0.        , 0.23002636, 0.        , 0.28511174,\n",
       "        0.        , 0.        , 0.        , 0.        , 0.        ,\n",
       "        0.        , 0.23002636, 0.28511174, 0.        , 0.        ,\n",
       "        0.28511174, 0.        , 0.        , 0.        , 0.        ,\n",
       "        0.        , 0.        , 0.        , 0.        , 0.        ,\n",
       "        0.        , 0.        , 0.        ],\n",
       "       [0.        , 0.        , 0.24913378, 0.        , 0.        ,\n",
       "        0.        , 0.24913378, 0.        , 0.        , 0.        ,\n",
       "        0.24913378, 0.        , 0.        , 0.        , 0.        ,\n",
       "        0.        , 0.24913378, 0.        , 0.        , 0.24913378,\n",
       "        0.        , 0.        , 0.        , 0.        , 0.        ,\n",
       "        0.        , 0.24913378, 0.        , 0.24913378, 0.        ,\n",
       "        0.24913378, 0.        , 0.        , 0.        , 0.        ,\n",
       "        0.        , 0.24913378, 0.24913378, 0.        , 0.3336956 ,\n",
       "        0.        , 0.        , 0.        , 0.        , 0.        ,\n",
       "        0.49826757, 0.14035763, 0.        ],\n",
       "       [0.        , 0.321564  , 0.        , 0.        , 0.        ,\n",
       "        0.        , 0.        , 0.        , 0.        , 0.        ,\n",
       "        0.        , 0.321564  , 0.        , 0.        , 0.        ,\n",
       "        0.        , 0.        , 0.321564  , 0.        , 0.        ,\n",
       "        0.25943581, 0.        , 0.        , 0.        , 0.        ,\n",
       "        0.321564  , 0.        , 0.        , 0.        , 0.        ,\n",
       "        0.        , 0.        , 0.        , 0.25943581, 0.321564  ,\n",
       "        0.        , 0.        , 0.        , 0.        , 0.21535516,\n",
       "        0.        , 0.25943581, 0.        , 0.321564  , 0.        ,\n",
       "        0.        , 0.36232709, 0.        ]])"
      ]
     },
     "execution_count": 15,
     "metadata": {},
     "output_type": "execute_result"
    }
   ],
   "source": [
    "TFIDF"
   ]
  },
  {
   "cell_type": "code",
   "execution_count": null,
   "metadata": {},
   "outputs": [],
   "source": []
  }
 ],
 "metadata": {
  "kernelspec": {
   "display_name": "Python 3",
   "language": "python",
   "name": "python3"
  },
  "language_info": {
   "codemirror_mode": {
    "name": "ipython",
    "version": 3
   },
   "file_extension": ".py",
   "mimetype": "text/x-python",
   "name": "python",
   "nbconvert_exporter": "python",
   "pygments_lexer": "ipython3",
   "version": "3.6.8"
  }
 },
 "nbformat": 4,
 "nbformat_minor": 2
}
